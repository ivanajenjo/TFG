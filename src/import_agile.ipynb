{
 "metadata": {
  "language_info": {
   "codemirror_mode": {
    "name": "ipython",
    "version": 3
   },
   "file_extension": ".py",
   "mimetype": "text/x-python",
   "name": "python",
   "nbconvert_exporter": "python",
   "pygments_lexer": "ipython3",
   "version": "3.7.6-final"
  },
  "orig_nbformat": 2,
  "kernelspec": {
   "name": "python_defaultSpec_1598516014772",
   "display_name": "Python 3.7.6 64-bit ('base': conda)"
  }
 },
 "nbformat": 4,
 "nbformat_minor": 2,
 "cells": [
  {
   "cell_type": "code",
   "execution_count": 1,
   "metadata": {
    "tags": []
   },
   "outputs": [
    {
     "output_type": "stream",
     "name": "stdout",
     "text": "48\n"
    }
   ],
   "source": [
    "import pandas as pd\n",
    "import numpy as np\n",
    "import matplotlib.pyplot as plt\n",
    "import select_features\n",
    "import seaborn as sns\n",
    "sns.set()\n",
    "archivo = '..\\data\\ISBSG - Release May 2017 R1.csv'\n",
    "df = pd.read_csv(archivo, sep = ';', low_memory = False)\n",
    "variables = ['Data Quality Rating', 'UFP rating', 'Industry Sector','Application Group', 'Development Type', 'Development Platform', 'Language Type', 'Primary Programming Language', 'Count Approach', 'Functional Size', 'Adjusted Function Points', 'Normalised Work Effort Level 1', 'Summary Work Effort', 'Effort Build', 'Effort Test', 'Effort Implement','Project Elapsed Time', 'Business Area Type', '1st Data Base System', 'Used Methodology', 'Resource Level', 'Max Team Size', 'Average Team Size', 'Input count', 'Output count', 'Enquiry count', 'File count', 'Interface count', 'Agile Method Used', 'Sprints / iterations size']\n",
    "df = df.loc[:, variables]\n",
    "filtro = df['Agile Method Used'] == 'Yes'\n",
    "df = df.loc[filtro, :]\n",
    "filtro = df['Count Approach'] == 'NESMA'\n",
    "df = df.loc[filtro, :]\n",
    "df = df.dropna(subset=['Sprints / iterations size'])\n",
    "df = df.dropna(axis=1, thresh=int(0.5*len(df)))\n",
    "df = df.dropna()\n",
    "print(len(df))\n",
    "df = df.drop(columns=['Summary Work Effort' ,'Effort Build', 'Effort Test', 'Effort Implement', 'Data Quality Rating', 'UFP rating', 'Count Approach', 'Agile Method Used'])"
   ]
  },
  {
   "cell_type": "code",
   "execution_count": null,
   "metadata": {
    "tags": []
   },
   "outputs": [],
   "source": [
    "mi = select_features.calcular_mi_manual('Normalised Work Effort Level 1', df)\n",
    "mi.plot.bar(figsize=(16,8))"
   ]
  },
  {
   "cell_type": "code",
   "execution_count": null,
   "metadata": {},
   "outputs": [],
   "source": [
    "mrmr = select_features.calcular_mrmr_v2('Normalised Work Effort Level 1', df)\n",
    "mrmr.plot.bar(figsize=(16, 8))"
   ]
  },
  {
   "cell_type": "code",
   "execution_count": null,
   "metadata": {},
   "outputs": [],
   "source": [
    "datak1T = pd.read_csv(\"500 cross k1 v2.csv\", sep=';')\n",
    "datak1 = pd.read_csv(\"Datos Agile.csv\", sep=';', decimal=\",\")\n",
    "filtro1 = (datak1T['Metodo'] == 1)\n",
    "filtro2 = (datak1T['Metodo'] == 2)\n",
    "filtro3 = (datak1T['Metodo'] == 3)\n",
    "filtro4 = (datak1T['Metodo'] == 4)\n",
    "data1k1 = datak1T.loc[filtro1,:]\n",
    "data2k1 = datak1T.loc[filtro2,:]\n",
    "data3k1 = datak1T.loc[filtro3,:]\n",
    "data4k1 = datak1T.loc[filtro4,:]"
   ]
  },
  {
   "cell_type": "code",
   "execution_count": null,
   "metadata": {},
   "outputs": [],
   "source": [
    "metodo1 = datak1['k1']\n",
    "metodo2 = datak1['k2']\n",
    "metodo3 = datak1['k3']\n",
    "metodo4 = datak1['k4']\n",
    "data_mean1A = metodo1.expanding().mean()\n",
    "data_mean2A = metodo2.expanding().mean()\n",
    "data_mean3A = metodo3.expanding().mean()\n",
    "data_mean4A = metodo4.expanding().mean()\n",
    "\n",
    "datafig2_1A = pd.DataFrame({\n",
    "'MI_1L':data_mean1A,\n",
    "'mRMR_1L':data_mean2A,\n",
    "'MI_2L':data_mean3A,\n",
    "'mRMR_2L':data_mean4A})\n",
    "datafig2_1A.plot(figsize=(16, 8))"
   ]
  },
  {
   "cell_type": "code",
   "execution_count": null,
   "metadata": {},
   "outputs": [],
   "source": [
    "data_mean1 = data1k1['MMRE'].expanding().mean()\n",
    "data_mean2 = data2k1['MMRE'].expanding().mean()\n",
    "data_mean2.index = range(500)\n",
    "data_mean3 = data3k1['MMRE'].expanding().mean()\n",
    "data_mean3.index = range(500)\n",
    "data_mean4 = data4k1['MMRE'].expanding().mean()\n",
    "data_mean4.index = range(500)\n",
    "\n",
    "datafig2_1 = pd.DataFrame({\n",
    "'MI_1L':data_mean1,\n",
    "'mRMR_1L':data_mean2,\n",
    "'MI_2L':data_mean3,\n",
    "'mRMR_2L':data_mean4})\n",
    "datafig2_1.plot(figsize=(16, 8))"
   ]
  },
  {
   "cell_type": "code",
   "execution_count": null,
   "metadata": {},
   "outputs": [],
   "source": [
    "#Figura MI_1L\n",
    "datafigMI_1L = pd.DataFrame({\n",
    "    'Agiles': data_mean1A,\n",
    "    'Tradicionales' : data_mean1\n",
    "})\n",
    "datafigMI_1L.plot(figsize=(16, 8))"
   ]
  },
  {
   "cell_type": "code",
   "execution_count": null,
   "metadata": {},
   "outputs": [],
   "source": [
    "plt.figure(figsize=(15,15))\n",
    "dataBoxAgil = pd.DataFrame({\n",
    "    'MI_1L':metodo1,\n",
    "    'mRMR_1L':metodo2,\n",
    "    'MI_2L':metodo3,\n",
    "    'mRMR_2L':metodo4\n",
    "})\n",
    "sns.boxplot(data=dataBoxAgil)"
   ]
  }
 ]
}