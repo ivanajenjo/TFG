{
 "cells": [
  {
   "cell_type": "code",
   "execution_count": 1,
   "metadata": {},
   "outputs": [
    {
     "output_type": "stream",
     "name": "stdout",
     "text": "621\n"
    },
    {
     "output_type": "error",
     "ename": "ValueError",
     "evalue": "Expected array-like (array or non-string sequence), got 'Normalised Work Effort Level 1'",
     "traceback": [
      "\u001b[1;31m---------------------------------------------------------------------------\u001b[0m",
      "\u001b[1;31mValueError\u001b[0m                                Traceback (most recent call last)",
      "\u001b[1;32m<ipython-input-1-8ae574a2d07d>\u001b[0m in \u001b[0;36m<module>\u001b[1;34m\u001b[0m\n\u001b[0;32m     24\u001b[0m \u001b[0mdatabase\u001b[0m \u001b[1;33m=\u001b[0m \u001b[1;33m{\u001b[0m\u001b[1;34m'[;].*'\u001b[0m\u001b[1;33m:\u001b[0m\u001b[1;34m';'\u001b[0m\u001b[1;33m,\u001b[0m\u001b[1;34m'ACCESS[; ].*'\u001b[0m\u001b[1;33m:\u001b[0m\u001b[1;34m'ACCESS'\u001b[0m\u001b[1;33m,\u001b[0m \u001b[1;34m'MS Access'\u001b[0m\u001b[1;33m:\u001b[0m\u001b[1;34m'ACCESS'\u001b[0m\u001b[1;33m,\u001b[0m \u001b[1;34m'ADABAS;'\u001b[0m\u001b[1;33m:\u001b[0m\u001b[1;34m'ADABAS'\u001b[0m\u001b[1;33m,\u001b[0m \u001b[1;34m'Micosoft.*'\u001b[0m\u001b[1;33m:\u001b[0m\u001b[1;34m'Attain'\u001b[0m\u001b[1;33m,\u001b[0m \u001b[1;34m'DB2[; /].*'\u001b[0m\u001b[1;33m:\u001b[0m\u001b[1;34m'DB2'\u001b[0m\u001b[1;33m,\u001b[0m \u001b[1;34m'IBM DB2'\u001b[0m\u001b[1;33m:\u001b[0m\u001b[1;34m'DB2'\u001b[0m\u001b[1;33m,\u001b[0m \u001b[1;34m'UDB2'\u001b[0m\u001b[1;33m:\u001b[0m\u001b[1;34m'DB2'\u001b[0m\u001b[1;33m,\u001b[0m \u001b[1;34m'Domino[ ].*'\u001b[0m\u001b[1;33m:\u001b[0m\u001b[1;34m'Domino'\u001b[0m\u001b[1;33m,\u001b[0m \u001b[1;34m'LOTUS.*'\u001b[0m\u001b[1;33m:\u001b[0m\u001b[1;34m'Domino'\u001b[0m\u001b[1;33m,\u001b[0m \u001b[1;34m'Notes.*'\u001b[0m\u001b[1;33m:\u001b[0m\u001b[1;34m'Domino'\u001b[0m\u001b[1;33m,\u001b[0m \u001b[1;34m'Exchange.*'\u001b[0m\u001b[1;33m:\u001b[0m\u001b[1;34m'Exchange'\u001b[0m\u001b[1;33m,\u001b[0m \u001b[1;34m'FOXPRO;'\u001b[0m\u001b[1;33m:\u001b[0m\u001b[1;34m'Foxpro'\u001b[0m\u001b[1;33m,\u001b[0m \u001b[1;34m'HIRDB;'\u001b[0m\u001b[1;33m:\u001b[0m\u001b[1;34m'HIRDB'\u001b[0m\u001b[1;33m,\u001b[0m \u001b[1;34m'DB[/].*'\u001b[0m\u001b[1;33m:\u001b[0m\u001b[1;34m'IMS'\u001b[0m\u001b[1;33m,\u001b[0m \u001b[1;34m'DEDB;'\u001b[0m\u001b[1;33m:\u001b[0m\u001b[1;34m'IMS'\u001b[0m\u001b[1;33m,\u001b[0m \u001b[1;34m'IDMS[; -].*'\u001b[0m\u001b[1;33m:\u001b[0m\u001b[1;34m'IMS'\u001b[0m\u001b[1;33m,\u001b[0m \u001b[1;34m'IMS.*'\u001b[0m\u001b[1;33m:\u001b[0m\u001b[1;34m'IMS'\u001b[0m\u001b[1;33m,\u001b[0m \u001b[1;34m'MS[- ]SQL[; ].*'\u001b[0m\u001b[1;33m:\u001b[0m\u001b[1;34m'MS SQL'\u001b[0m\u001b[1;33m,\u001b[0m \u001b[1;34m'MSDE.*'\u001b[0m\u001b[1;33m:\u001b[0m\u001b[1;34m'MS SQL'\u001b[0m\u001b[1;33m,\u001b[0m \u001b[1;34m'SQL Server[; ].*'\u001b[0m\u001b[1;33m:\u001b[0m\u001b[1;34m'MS SQL'\u001b[0m\u001b[1;33m,\u001b[0m \u001b[1;34m'SQL;'\u001b[0m\u001b[1;33m:\u001b[0m\u001b[1;34m'MS SQL'\u001b[0m\u001b[1;33m,\u001b[0m \u001b[1;34m'VSE/.*'\u001b[0m\u001b[1;33m:\u001b[0m\u001b[1;34m'MS SQL'\u001b[0m\u001b[1;33m,\u001b[0m \u001b[1;34m'NCR;'\u001b[0m\u001b[1;33m:\u001b[0m\u001b[1;34m'NCR'\u001b[0m\u001b[1;33m,\u001b[0m \u001b[1;34m'Oracle.*'\u001b[0m\u001b[1;33m:\u001b[0m\u001b[1;34m'ORACLE'\u001b[0m\u001b[1;33m,\u001b[0m \u001b[1;34m'Personal O.*'\u001b[0m\u001b[1;33m:\u001b[0m\u001b[1;34m'ORACLE'\u001b[0m\u001b[1;33m,\u001b[0m \u001b[1;34m'RDB[; ].*'\u001b[0m\u001b[1;33m:\u001b[0m\u001b[1;34m'ORACLE'\u001b[0m\u001b[1;33m,\u001b[0m \u001b[1;34m'CICS;'\u001b[0m\u001b[1;33m:\u001b[0m\u001b[1;34m'ORACLE'\u001b[0m\u001b[1;33m,\u001b[0m \u001b[1;34m'SAS;'\u001b[0m\u001b[1;33m:\u001b[0m\u001b[1;34m'SAS'\u001b[0m\u001b[1;33m,\u001b[0m \u001b[1;34m'Solid;'\u001b[0m\u001b[1;33m:\u001b[0m\u001b[1;34m'Solid'\u001b[0m\u001b[1;33m,\u001b[0m \u001b[1;34m'SYBASE.*'\u001b[0m\u001b[1;33m:\u001b[0m\u001b[1;34m'SYBASE'\u001b[0m\u001b[1;33m,\u001b[0m \u001b[1;34m'YES'\u001b[0m\u001b[1;33m:\u001b[0m\u001b[1;34m'Unspecified'\u001b[0m\u001b[1;33m,\u001b[0m \u001b[1;34m'ISAM;'\u001b[0m\u001b[1;33m:\u001b[0m\u001b[1;34m'Unspecified'\u001b[0m\u001b[1;33m,\u001b[0m \u001b[1;34m'multiple;'\u001b[0m\u001b[1;33m:\u001b[0m\u001b[1;34m'Unspecified'\u001b[0m\u001b[1;33m,\u001b[0m \u001b[1;34m'VSAM[; ].*'\u001b[0m\u001b[1;33m:\u001b[0m\u001b[1;34m'Unspecified'\u001b[0m\u001b[1;33m,\u001b[0m \u001b[1;34m'WATCOM[; ].*'\u001b[0m\u001b[1;33m:\u001b[0m\u001b[1;34m'Watcom'\u001b[0m\u001b[1;33m,\u001b[0m \u001b[1;34m'WGRES;'\u001b[0m\u001b[1;33m:\u001b[0m\u001b[1;34m'WGRES'\u001b[0m\u001b[1;33m}\u001b[0m\u001b[1;33m\u001b[0m\u001b[1;33m\u001b[0m\u001b[0m\n\u001b[0;32m     25\u001b[0m \u001b[0mdf\u001b[0m\u001b[1;33m[\u001b[0m\u001b[1;34m'1st Data Base System'\u001b[0m\u001b[1;33m]\u001b[0m\u001b[1;33m.\u001b[0m\u001b[0mreplace\u001b[0m\u001b[1;33m(\u001b[0m \u001b[0mdatabase\u001b[0m\u001b[1;33m,\u001b[0m \u001b[0minplace\u001b[0m \u001b[1;33m=\u001b[0m \u001b[1;32mTrue\u001b[0m\u001b[1;33m,\u001b[0m \u001b[0mregex\u001b[0m \u001b[1;33m=\u001b[0m \u001b[1;32mTrue\u001b[0m\u001b[1;33m)\u001b[0m\u001b[1;33m\u001b[0m\u001b[1;33m\u001b[0m\u001b[0m\n\u001b[1;32m---> 26\u001b[1;33m \u001b[0mresultado\u001b[0m \u001b[1;33m=\u001b[0m \u001b[0mfs\u001b[0m\u001b[1;33m.\u001b[0m\u001b[0mordenar_porMI\u001b[0m\u001b[1;33m(\u001b[0m\u001b[1;34m'Normalised Work Effort Level 1'\u001b[0m\u001b[1;33m,\u001b[0m \u001b[0mdf\u001b[0m\u001b[1;33m)\u001b[0m\u001b[1;33m\u001b[0m\u001b[1;33m\u001b[0m\u001b[0m\n\u001b[0m\u001b[0;32m     27\u001b[0m \u001b[0mresultado\u001b[0m\u001b[1;33m\u001b[0m\u001b[1;33m\u001b[0m\u001b[0m\n",
      "\u001b[1;32md:\\Users\\ivana\\Documents\\TFG\\src\\select_features.py\u001b[0m in \u001b[0;36mordenar_porMI\u001b[1;34m(var, df)\u001b[0m\n\u001b[0;32m      3\u001b[0m \u001b[1;33m\u001b[0m\u001b[0m\n\u001b[0;32m      4\u001b[0m \u001b[1;32mdef\u001b[0m \u001b[0mordenar_porMI\u001b[0m\u001b[1;33m(\u001b[0m\u001b[0mvar\u001b[0m\u001b[1;33m,\u001b[0m \u001b[0mdf\u001b[0m\u001b[1;33m)\u001b[0m\u001b[1;33m:\u001b[0m\u001b[1;33m\u001b[0m\u001b[1;33m\u001b[0m\u001b[0m\n\u001b[1;32m----> 5\u001b[1;33m     \u001b[0mresultado\u001b[0m \u001b[1;33m=\u001b[0m \u001b[0mmutual_info_classif\u001b[0m\u001b[1;33m(\u001b[0m\u001b[0mdf\u001b[0m\u001b[1;33m,\u001b[0m \u001b[0mvar\u001b[0m\u001b[1;33m)\u001b[0m\u001b[1;33m\u001b[0m\u001b[1;33m\u001b[0m\u001b[0m\n\u001b[0m",
      "\u001b[1;32mD:\\ProgramData\\Anaconda3\\lib\\site-packages\\sklearn\\feature_selection\\_mutual_info.py\u001b[0m in \u001b[0;36mmutual_info_classif\u001b[1;34m(X, y, discrete_features, n_neighbors, copy, random_state)\u001b[0m\n\u001b[0;32m    447\u001b[0m            \u001b[0mof\u001b[0m \u001b[0ma\u001b[0m \u001b[0mRandom\u001b[0m \u001b[0mVector\u001b[0m\u001b[1;33m:\u001b[0m\u001b[1;33m,\u001b[0m \u001b[0mProbl\u001b[0m\u001b[1;33m.\u001b[0m \u001b[0mPeredachi\u001b[0m \u001b[0mInf\u001b[0m\u001b[1;33m.\u001b[0m\u001b[1;33m,\u001b[0m \u001b[1;36m23\u001b[0m\u001b[1;33m:\u001b[0m\u001b[1;36m2\u001b[0m \u001b[1;33m(\u001b[0m\u001b[1;36m1987\u001b[0m\u001b[1;33m)\u001b[0m\u001b[1;33m,\u001b[0m \u001b[1;36m9\u001b[0m\u001b[1;33m-\u001b[0m\u001b[1;36m16\u001b[0m\u001b[1;33m\u001b[0m\u001b[1;33m\u001b[0m\u001b[0m\n\u001b[0;32m    448\u001b[0m     \"\"\"\n\u001b[1;32m--> 449\u001b[1;33m     \u001b[0mcheck_classification_targets\u001b[0m\u001b[1;33m(\u001b[0m\u001b[0my\u001b[0m\u001b[1;33m)\u001b[0m\u001b[1;33m\u001b[0m\u001b[1;33m\u001b[0m\u001b[0m\n\u001b[0m\u001b[0;32m    450\u001b[0m     return _estimate_mi(X, y, discrete_features, True, n_neighbors,\n\u001b[0;32m    451\u001b[0m                         copy, random_state)\n",
      "\u001b[1;32mD:\\ProgramData\\Anaconda3\\lib\\site-packages\\sklearn\\utils\\multiclass.py\u001b[0m in \u001b[0;36mcheck_classification_targets\u001b[1;34m(y)\u001b[0m\n\u001b[0;32m    164\u001b[0m     \u001b[0my\u001b[0m \u001b[1;33m:\u001b[0m \u001b[0marray\u001b[0m\u001b[1;33m-\u001b[0m\u001b[0mlike\u001b[0m\u001b[1;33m\u001b[0m\u001b[1;33m\u001b[0m\u001b[0m\n\u001b[0;32m    165\u001b[0m     \"\"\"\n\u001b[1;32m--> 166\u001b[1;33m     \u001b[0my_type\u001b[0m \u001b[1;33m=\u001b[0m \u001b[0mtype_of_target\u001b[0m\u001b[1;33m(\u001b[0m\u001b[0my\u001b[0m\u001b[1;33m)\u001b[0m\u001b[1;33m\u001b[0m\u001b[1;33m\u001b[0m\u001b[0m\n\u001b[0m\u001b[0;32m    167\u001b[0m     if y_type not in ['binary', 'multiclass', 'multiclass-multioutput',\n\u001b[0;32m    168\u001b[0m                       'multilabel-indicator', 'multilabel-sequences']:\n",
      "\u001b[1;32mD:\\ProgramData\\Anaconda3\\lib\\site-packages\\sklearn\\utils\\multiclass.py\u001b[0m in \u001b[0;36mtype_of_target\u001b[1;34m(y)\u001b[0m\n\u001b[0;32m    239\u001b[0m     \u001b[1;32mif\u001b[0m \u001b[1;32mnot\u001b[0m \u001b[0mvalid\u001b[0m\u001b[1;33m:\u001b[0m\u001b[1;33m\u001b[0m\u001b[1;33m\u001b[0m\u001b[0m\n\u001b[0;32m    240\u001b[0m         raise ValueError('Expected array-like (array or non-string sequence), '\n\u001b[1;32m--> 241\u001b[1;33m                          'got %r' % y)\n\u001b[0m\u001b[0;32m    242\u001b[0m \u001b[1;33m\u001b[0m\u001b[0m\n\u001b[0;32m    243\u001b[0m     \u001b[0msparse_pandas\u001b[0m \u001b[1;33m=\u001b[0m \u001b[1;33m(\u001b[0m\u001b[0my\u001b[0m\u001b[1;33m.\u001b[0m\u001b[0m__class__\u001b[0m\u001b[1;33m.\u001b[0m\u001b[0m__name__\u001b[0m \u001b[1;32min\u001b[0m \u001b[1;33m[\u001b[0m\u001b[1;34m'SparseSeries'\u001b[0m\u001b[1;33m,\u001b[0m \u001b[1;34m'SparseArray'\u001b[0m\u001b[1;33m]\u001b[0m\u001b[1;33m)\u001b[0m\u001b[1;33m\u001b[0m\u001b[1;33m\u001b[0m\u001b[0m\n",
      "\u001b[1;31mValueError\u001b[0m: Expected array-like (array or non-string sequence), got 'Normalised Work Effort Level 1'"
     ]
    }
   ],
   "source": [
    "import pandas as pd\n",
    "import select_features as fs\n",
    "#archivo = '..\\data\\ISBSG - Release May 2017 R1.csv'\n",
    "archivo = '..\\data\\ISBSG DATA Release 12.csv'\n",
    "df = pd.read_csv(archivo, sep = ';', low_memory = False)\n",
    "#variables = ['Data Quality Rating', 'UFP rating', 'Industry Sector','Application Group', 'Development Type', 'Development Platform', 'Language Type', 'Primary Programming Language', 'Count Approach', 'Functional Size', 'Adjusted Function Points', 'Normalised Work Effort Level 1', 'Summary Work Effort', 'Project Elapsed Time', 'Business Area Type', '1st Data Base System', 'Used Methodology', 'Resource Level', 'Max Team Size', 'Average Team Size', 'Input count', 'Output count', 'Enquiry count', 'File count', 'Interface count', 'Agile Method Used']\n",
    "variables = ['Data Quality Rating', 'UFP rating', 'Industry Sector','Application Group', 'Development Type', 'Development Platform', 'Language Type', 'Primary Programming Language', 'Count Approach', 'Functional Size', 'Adjusted Function Points', 'Normalised Work Effort Level 1', 'Summary Work Effort', 'Project Elapsed Time', 'Business Area Type', '1st Data Base System', 'Used Methodology', 'Resource Level', 'Max Team Size', 'Average Team Size', 'Input count', 'Output count', 'Enquiry count', 'File count', 'Interface count']\n",
    "df = df.loc[:, variables]\n",
    "filtro = ((df['Data Quality Rating'] == 'A') | (df['Data Quality Rating'] == 'B')) & ((df['UFP rating'] == 'A') | (df['UFP rating'] == 'B')) \n",
    "df = df.loc[filtro, :]\n",
    "filtro = (df['Normalised Work Effort Level 1'].notnull()) & (df['Normalised Work Effort Level 1'] == df['Summary Work Effort'])\n",
    "df = df.loc[filtro, :]\n",
    "filtro = df['Count Approach'] == 'IFPUG 4+'\n",
    "df = df.loc[filtro, :]\n",
    "#variables = ['Industry Sector','Application Group', 'Development Type', 'Development Platform', 'Language Type', 'Primary Programming Language', 'Functional Size', 'Adjusted Function Points', 'Normalised Work Effort Level 1', 'Project Elapsed Time', 'Business Area Type', '1st Data Base System', 'Used Methodology', 'Max Team Size', 'Average Team Size', 'Input count', 'Output count', 'Enquiry count', 'File count', 'Interface count', 'Agile Method Used']\n",
    "variables = ['Industry Sector','Application Group', 'Development Type', 'Development Platform', 'Language Type', 'Primary Programming Language', 'Functional Size', 'Adjusted Function Points', 'Normalised Work Effort Level 1', 'Project Elapsed Time', 'Business Area Type', '1st Data Base System', 'Used Methodology', 'Max Team Size', 'Average Team Size', 'Input count', 'Output count', 'Enquiry count', 'File count', 'Interface count']\n",
    "df = df.loc[:, variables]\n",
    "df = df.dropna(axis=1, thresh=int(0.5*len(df)))\n",
    "df = df.dropna()\n",
    "print(len(df))\n",
    "df['Project Elapsed Time'] = df['Project Elapsed Time'].str.replace(',', '.').astype(float)\n",
    "programmingLenguaje = {'A:G':'Unspecified', 'ASP.Net':'ASP', 'BASIC':'Visual Basic', 'CSP':'Unspecified', 'Visual C':'C'}\n",
    "df['Primary Programming Language'].replace( programmingLenguaje, inplace = True)\n",
    "database = {'[;].*':';','ACCESS[; ].*':'ACCESS', 'MS Access':'ACCESS', 'ADABAS;':'ADABAS', 'Micosoft.*':'Attain', 'DB2[; /].*':'DB2', 'IBM DB2':'DB2', 'UDB2':'DB2', 'Domino[ ].*':'Domino', 'LOTUS.*':'Domino', 'Notes.*':'Domino', 'Exchange.*':'Exchange', 'FOXPRO;':'Foxpro', 'HIRDB;':'HIRDB', 'DB[/].*':'IMS', 'DEDB;':'IMS', 'IDMS[; -].*':'IMS', 'IMS.*':'IMS', 'MS[- ]SQL[; ].*':'MS SQL', 'MSDE.*':'MS SQL', 'SQL Server[; ].*':'MS SQL', 'SQL;':'MS SQL', 'VSE/.*':'MS SQL', 'NCR;':'NCR', 'Oracle.*':'ORACLE', 'Personal O.*':'ORACLE', 'RDB[; ].*':'ORACLE', 'CICS;':'ORACLE', 'SAS;':'SAS', 'Solid;':'Solid', 'SYBASE.*':'SYBASE', 'YES':'Unspecified', 'ISAM;':'Unspecified', 'multiple;':'Unspecified', 'VSAM[; ].*':'Unspecified', 'WATCOM[; ].*':'Watcom', 'WGRES;':'WGRES'}\n",
    "df['1st Data Base System'].replace( database, inplace = True, regex = True)\n",
    "resultado = fs.ordenar_porMI(['Normalised Work Effort Level 1'], df)\n",
    "resultado"
   ]
  },
  {
   "cell_type": "code",
   "execution_count": null,
   "metadata": {},
   "outputs": [],
   "source": [
    "#variables = ['Industry Sector', 'Application Group', 'Development Type', 'Platform Development', 'Language Type', 'Primary Programming Language', '1st Data Base System', 'Used Methodology']\n",
    "variables = ['1st Data Base System']\n",
    "dcount = df.loc[:, variables]\n",
    "for c in dcount.columns:\n",
    "    print(\"---- %s ---\" % c)\n",
    "    print(dcount[c].value_counts())\n",
    "    print('')"
   ]
  },
  {
   "cell_type": "code",
   "execution_count": null,
   "metadata": {},
   "outputs": [],
   "source": []
  }
 ],
 "metadata": {
  "language_info": {
   "name": "python",
   "codemirror_mode": {
    "name": "ipython",
    "version": 3
   },
   "version": "3.7.4-final"
  },
  "orig_nbformat": 2,
  "file_extension": ".py",
  "mimetype": "text/x-python",
  "name": "python",
  "npconvert_exporter": "python",
  "pygments_lexer": "ipython3",
  "version": 3,
  "kernelspec": {
   "name": "python37464bitprogramdatavirtualenvee9d63b05d5c484496b6097fa197c876",
   "display_name": "Python 3.7.4 64-bit ('ProgramData': virtualenv)"
  }
 },
 "nbformat": 4,
 "nbformat_minor": 2
}