{
 "nbformat": 4,
 "nbformat_minor": 2,
 "metadata": {
  "language_info": {
   "name": "python",
   "codemirror_mode": {
    "name": "ipython",
    "version": 3
   },
   "version": "3.7.4-final"
  },
  "orig_nbformat": 2,
  "file_extension": ".py",
  "mimetype": "text/x-python",
  "name": "python",
  "npconvert_exporter": "python",
  "pygments_lexer": "ipython3",
  "version": 3,
  "kernelspec": {
   "name": "python37464bitprogramdatavirtualenvee9d63b05d5c484496b6097fa197c876",
   "display_name": "Python 3.7.4 64-bit ('ProgramData': virtualenv)"
  }
 },
 "cells": [
  {
   "cell_type": "code",
   "execution_count": 18,
   "metadata": {},
   "outputs": [
    {
     "output_type": "stream",
     "name": "stdout",
     "text": "1884\n"
    }
   ],
   "source": [
    "import pandas as pd\n",
    "#archivo = '..\\data\\ISBSG - Release May 2017 R1.csv'\n",
    "archivo = '..\\data\\ISBSG DATA Release 12.csv'\n",
    "df = pd.read_csv(archivo, sep = ';', low_memory = False)\n",
    "variables = ['Data Quality Rating', 'UFP rating', 'Industry Sector','Application Group', 'Development Type', 'Development Platform', 'Language Type', 'Primary Programming Language', 'Count Approach', 'Functional Size', 'Adjusted Function Points', 'Normalised Work Effort Level 1', 'Summary Work Effort', 'Project Elapsed Time', 'Business Area Type', '1st Data Base System', 'Used Methodology', 'Resource Level', 'Max Team Size', 'Average Team Size', 'Input count', 'Output count', 'Enquiry count', 'File count', 'Interface count', 'Agile Method Used']\n",
    "df = df.loc[:, variables]\n",
    "filtro = ((df['Data Quality Rating'] == 'A') | (df['Data Quality Rating'] == 'B')) & ((df['UFP rating'] == 'A') | (df['UFP rating'] == 'B')) \n",
    "df = df.loc[filtro, :]\n",
    "filtro = (df['Normalised Work Effort Level 1'].notnull()) & (df['Normalised Work Effort Level 1'] == df['Summary Work Effort'])\n",
    "df = df.loc[filtro, :]\n",
    "filtro = df['Count Approach'] == 'IFPUG 4+'\n",
    "df = df.loc[filtro, :]\n",
    "variables = ['Industry Sector','Application Group', 'Development Type', 'Development Platform', 'Language Type', 'Primary Programming Language', 'Functional Size', 'Adjusted Function Points', 'Normalised Work Effort Level 1', 'Project Elapsed Time', 'Business Area Type', '1st Data Base System', 'Used Methodology', 'Max Team Size', 'Average Team Size', 'Input count', 'Output count', 'Enquiry count', 'File count', 'Interface count', 'Agile Method Used']\n",
    "df = df.loc[:, variables]\n",
    "df = df.dropna(axis=1, thresh=int(0.5*len(df)))\n",
    "print(len(df))\n",
    "df = df.dropna()\n",
    "df['Project Elapsed Time'] = df['Project Elapsed Time'].str.replace(',', '.').astype(float)\n",
    "df['Primary Programming Language'].replace({'A:G':'Unspecified', 'ASP.Net':'ASP', 'BASIC':'Visual Basic', 'CSP':'Unspecified', 'Visual C':'C'}, inplace = True)\n",
    "df['1st Data Base System'].replace({'ACCESS[; ].*':'ACCESS', 'MS Access':'ACCESS', 'ADABAS;':'ADABAS', 'Oracle.*':'ORACLE'}, inplace = True)"
   ]
  },
  {
   "cell_type": "markdown",
   "metadata": {},
   "source": [
    "Nos quedan 624 proyectos aplicando un filtrado similar al original."
   ]
  },
  {
   "cell_type": "code",
   "execution_count": 19,
   "metadata": {},
   "outputs": [
    {
     "output_type": "stream",
     "name": "stdout",
     "text": "---- 1st Data Base System ---\nDB2;                       174\nOracle;                    102\nIMS;                        41\nSQL Server;                 25\nNo                          21\n                          ... \nACCESS;DB2;IMS;              1\nMSDE (SQL Server 2000);      1\nRDB 6.0;                     1\nOracle 7;                    1\nSQL Server;Oracle;           1\nName: 1st Data Base System, Length: 104, dtype: int64\n\n"
    }
   ],
   "source": [
    "#variables = ['Industry Sector', 'Application Group', 'Development Type', 'Platform Development', 'Language Type', 'Primary Programming Language', '1st Data Base System', 'Used Methodology']\n",
    "variables = ['1st Data Base System']\n",
    "dcount = df.loc[:, variables]\n",
    "for c in dcount.columns:\n",
    "    print(\"---- %s ---\" % c)\n",
    "    print(dcount[c].value_counts())\n",
    "    print('')"
   ]
  },
  {
   "cell_type": "code",
   "execution_count": null,
   "metadata": {},
   "outputs": [],
   "source": []
  }
 ]
}