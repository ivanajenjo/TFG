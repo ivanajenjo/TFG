{
 "nbformat": 4,
 "nbformat_minor": 2,
 "metadata": {
  "language_info": {
   "name": "python",
   "codemirror_mode": {
    "name": "ipython",
    "version": 3
   },
   "version": "3.7.4-final"
  },
  "orig_nbformat": 2,
  "file_extension": ".py",
  "mimetype": "text/x-python",
  "name": "python",
  "npconvert_exporter": "python",
  "pygments_lexer": "ipython3",
  "version": 3,
  "kernelspec": {
   "name": "python37464bitprogramdatavirtualenvee9d63b05d5c484496b6097fa197c876",
   "display_name": "Python 3.7.4 64-bit ('ProgramData': virtualenv)"
  }
 },
 "cells": [
  {
   "cell_type": "code",
   "execution_count": 2,
   "metadata": {},
   "outputs": [
    {
     "output_type": "stream",
     "name": "stdout",
     "text": "2183\n"
    },
    {
     "output_type": "execute_result",
     "data": {
      "text/plain": "       Industry Sector     Application Group Development Type  \\\n7            Insurance  Business Application  New Development   \n43          Government  Business Application  New Development   \n68           Utilities  Business Application  New Development   \n121      Manufacturing  Business Application  New Development   \n140   Service Industry  Business Application  New Development   \n...                ...                   ...              ...   \n7876        Government  Business Application      Enhancement   \n7891         Financial  Business Application  New Development   \n7924         Financial  Business Application      Enhancement   \n7928        Government  Business Application      Enhancement   \n7934        Government  Business Application  New Development   \n\n     Development Platform Language Type Primary Programming Language  \\\n7                      MF           3GL                         Java   \n43                     MF           3GL                        COBOL   \n68                     MF           3GL                         PL/I   \n121                 Multi           4GL                          SQL   \n140                    PC           3GL                           C#   \n...                   ...           ...                          ...   \n7876                   MF           3GL                        COBOL   \n7891                Multi           4GL                 PowerBuilder   \n7924                   MR           3GL                        COBOL   \n7928                   MF           3GL                         PL/I   \n7934                Multi           4GL                    Datastage   \n\n      Functional Size Adjusted Function Points  \\\n7               620.0                      620   \n43              243.0                      250   \n68              163.0                      152   \n121             702.0                      702   \n140              90.0                      101   \n...               ...                      ...   \n7876             12.0                       12   \n7891            478.0                      478   \n7924            242.0                      213   \n7928             96.0                       96   \n7934           1048.0                     1048   \n\n      Normalised Work Effort Level 1 Project Elapsed Time  \\\n7                            18160.0                  7,0   \n43                            2924.0                  8,0   \n68                             668.0                  9,0   \n121                           4805.0                 12,3   \n140                           2006.0                  5,0   \n...                              ...                  ...   \n7876                           129.0                  3,0   \n7891                          2716.0                  5,8   \n7924                          2185.0                  7,0   \n7928                          1011.0                  6,0   \n7934                          7722.0                 16,0   \n\n     1st Data Base System Used Methodology  \n7                IMS;DB2;       Don't Know  \n43                   DB2;              Yes  \n68                   DB2;              Yes  \n121    Oracle,SQL Server;       Don't Know  \n140   MS SQL Server 2005;              Yes  \n...                   ...              ...  \n7876                VSAM;              Yes  \n7891              Oracle;       Don't Know  \n7924                 RDB;               No  \n7928                 DB2;              Yes  \n7934                 DB2;              Yes  \n\n[624 rows x 12 columns]",
      "text/html": "<div>\n<style scoped>\n    .dataframe tbody tr th:only-of-type {\n        vertical-align: middle;\n    }\n\n    .dataframe tbody tr th {\n        vertical-align: top;\n    }\n\n    .dataframe thead th {\n        text-align: right;\n    }\n</style>\n<table border=\"1\" class=\"dataframe\">\n  <thead>\n    <tr style=\"text-align: right;\">\n      <th></th>\n      <th>Industry Sector</th>\n      <th>Application Group</th>\n      <th>Development Type</th>\n      <th>Development Platform</th>\n      <th>Language Type</th>\n      <th>Primary Programming Language</th>\n      <th>Functional Size</th>\n      <th>Adjusted Function Points</th>\n      <th>Normalised Work Effort Level 1</th>\n      <th>Project Elapsed Time</th>\n      <th>1st Data Base System</th>\n      <th>Used Methodology</th>\n    </tr>\n  </thead>\n  <tbody>\n    <tr>\n      <td>7</td>\n      <td>Insurance</td>\n      <td>Business Application</td>\n      <td>New Development</td>\n      <td>MF</td>\n      <td>3GL</td>\n      <td>Java</td>\n      <td>620.0</td>\n      <td>620</td>\n      <td>18160.0</td>\n      <td>7,0</td>\n      <td>IMS;DB2;</td>\n      <td>Don't Know</td>\n    </tr>\n    <tr>\n      <td>43</td>\n      <td>Government</td>\n      <td>Business Application</td>\n      <td>New Development</td>\n      <td>MF</td>\n      <td>3GL</td>\n      <td>COBOL</td>\n      <td>243.0</td>\n      <td>250</td>\n      <td>2924.0</td>\n      <td>8,0</td>\n      <td>DB2;</td>\n      <td>Yes</td>\n    </tr>\n    <tr>\n      <td>68</td>\n      <td>Utilities</td>\n      <td>Business Application</td>\n      <td>New Development</td>\n      <td>MF</td>\n      <td>3GL</td>\n      <td>PL/I</td>\n      <td>163.0</td>\n      <td>152</td>\n      <td>668.0</td>\n      <td>9,0</td>\n      <td>DB2;</td>\n      <td>Yes</td>\n    </tr>\n    <tr>\n      <td>121</td>\n      <td>Manufacturing</td>\n      <td>Business Application</td>\n      <td>New Development</td>\n      <td>Multi</td>\n      <td>4GL</td>\n      <td>SQL</td>\n      <td>702.0</td>\n      <td>702</td>\n      <td>4805.0</td>\n      <td>12,3</td>\n      <td>Oracle,SQL Server;</td>\n      <td>Don't Know</td>\n    </tr>\n    <tr>\n      <td>140</td>\n      <td>Service Industry</td>\n      <td>Business Application</td>\n      <td>New Development</td>\n      <td>PC</td>\n      <td>3GL</td>\n      <td>C#</td>\n      <td>90.0</td>\n      <td>101</td>\n      <td>2006.0</td>\n      <td>5,0</td>\n      <td>MS SQL Server 2005;</td>\n      <td>Yes</td>\n    </tr>\n    <tr>\n      <td>...</td>\n      <td>...</td>\n      <td>...</td>\n      <td>...</td>\n      <td>...</td>\n      <td>...</td>\n      <td>...</td>\n      <td>...</td>\n      <td>...</td>\n      <td>...</td>\n      <td>...</td>\n      <td>...</td>\n      <td>...</td>\n    </tr>\n    <tr>\n      <td>7876</td>\n      <td>Government</td>\n      <td>Business Application</td>\n      <td>Enhancement</td>\n      <td>MF</td>\n      <td>3GL</td>\n      <td>COBOL</td>\n      <td>12.0</td>\n      <td>12</td>\n      <td>129.0</td>\n      <td>3,0</td>\n      <td>VSAM;</td>\n      <td>Yes</td>\n    </tr>\n    <tr>\n      <td>7891</td>\n      <td>Financial</td>\n      <td>Business Application</td>\n      <td>New Development</td>\n      <td>Multi</td>\n      <td>4GL</td>\n      <td>PowerBuilder</td>\n      <td>478.0</td>\n      <td>478</td>\n      <td>2716.0</td>\n      <td>5,8</td>\n      <td>Oracle;</td>\n      <td>Don't Know</td>\n    </tr>\n    <tr>\n      <td>7924</td>\n      <td>Financial</td>\n      <td>Business Application</td>\n      <td>Enhancement</td>\n      <td>MR</td>\n      <td>3GL</td>\n      <td>COBOL</td>\n      <td>242.0</td>\n      <td>213</td>\n      <td>2185.0</td>\n      <td>7,0</td>\n      <td>RDB;</td>\n      <td>No</td>\n    </tr>\n    <tr>\n      <td>7928</td>\n      <td>Government</td>\n      <td>Business Application</td>\n      <td>Enhancement</td>\n      <td>MF</td>\n      <td>3GL</td>\n      <td>PL/I</td>\n      <td>96.0</td>\n      <td>96</td>\n      <td>1011.0</td>\n      <td>6,0</td>\n      <td>DB2;</td>\n      <td>Yes</td>\n    </tr>\n    <tr>\n      <td>7934</td>\n      <td>Government</td>\n      <td>Business Application</td>\n      <td>New Development</td>\n      <td>Multi</td>\n      <td>4GL</td>\n      <td>Datastage</td>\n      <td>1048.0</td>\n      <td>1048</td>\n      <td>7722.0</td>\n      <td>16,0</td>\n      <td>DB2;</td>\n      <td>Yes</td>\n    </tr>\n  </tbody>\n</table>\n<p>624 rows × 12 columns</p>\n</div>"
     },
     "metadata": {},
     "execution_count": 2
    }
   ],
   "source": [
    "import pandas as pd\n",
    "archivo = '..\\data\\ISBSG - Release May 2017 R1.csv'\n",
    "#archivo = '..\\data\\ISBSG DATA Release 12.csv'\n",
    "df = pd.read_csv(archivo, sep = ';', low_memory = False)\n",
    "variables = ['Data Quality Rating', 'UFP rating', 'Industry Sector','Application Group', 'Development Type', 'Development Platform', 'Language Type', 'Primary Programming Language', 'Count Approach', 'Functional Size', 'Adjusted Function Points', 'Normalised Work Effort Level 1', 'Summary Work Effort', 'Project Elapsed Time', 'Business Area Type', '1st Data Base System', 'Used Methodology', 'Resource Level', 'Max Team Size', 'Average Team Size', 'Input count', 'Output count', 'Enquiry count', 'File count', 'Interface count', 'Agile Method Used']\n",
    "df = df.loc[:, variables]\n",
    "filtro = ((df['Data Quality Rating'] == 'A') | (df['Data Quality Rating'] == 'B')) & ((df['UFP rating'] == 'A') | (df['UFP rating'] == 'B')) \n",
    "df = df.loc[filtro, :]\n",
    "filtro = (df['Normalised Work Effort Level 1'].notnull()) & (df['Normalised Work Effort Level 1'] == df['Summary Work Effort'])\n",
    "df = df.loc[filtro, :]\n",
    "filtro = df['Count Approach'] == 'IFPUG 4+'\n",
    "df = df.loc[filtro, :]\n",
    "variables = ['Industry Sector','Application Group', 'Development Type', 'Development Platform', 'Language Type', 'Primary Programming Language', 'Functional Size', 'Adjusted Function Points', 'Normalised Work Effort Level 1', 'Project Elapsed Time', 'Business Area Type', '1st Data Base System', 'Used Methodology', 'Max Team Size', 'Average Team Size', 'Input count', 'Output count', 'Enquiry count', 'File count', 'Interface count', 'Agile Method Used']\n",
    "df = df.loc[:, variables]\n",
    "df = df.dropna(axis=1, thresh=int(0.5*len(df)))\n",
    "print(len(df))\n",
    "df = df.dropna()\n",
    "df"
   ]
  },
  {
   "cell_type": "markdown",
   "metadata": {},
   "source": [
    "Nos quedan 624 proyectos aplicando un filtrado similar al original."
   ]
  }
 ]
}