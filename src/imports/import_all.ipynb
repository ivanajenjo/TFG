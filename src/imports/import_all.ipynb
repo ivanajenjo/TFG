{
 "nbformat": 4,
 "nbformat_minor": 2,
 "metadata": {
  "language_info": {
   "name": "python",
   "codemirror_mode": {
    "name": "ipython",
    "version": 3
   },
   "version": "3.7.4-final"
  },
  "orig_nbformat": 2,
  "file_extension": ".py",
  "mimetype": "text/x-python",
  "name": "python",
  "npconvert_exporter": "python",
  "pygments_lexer": "ipython3",
  "version": 3,
  "kernelspec": {
   "name": "python37464bitprogramdatavirtualenvee9d63b05d5c484496b6097fa197c876",
   "display_name": "Python 3.7.4 64-bit ('ProgramData': virtualenv)"
  }
 },
 "cells": [
  {
   "cell_type": "code",
   "execution_count": 3,
   "metadata": {},
   "outputs": [
    {
     "output_type": "stream",
     "name": "stdout",
     "text": "621\n"
    },
    {
     "output_type": "execute_result",
     "data": {
      "text/plain": "       Industry Sector     Application Group Development Type  \\\n5            Insurance  Business Application  New Development   \n33          Government  Business Application  New Development   \n54           Utilities  Business Application  New Development   \n90       Manufacturing  Business Application  New Development   \n106   Service Industry  Business Application  New Development   \n...                ...                   ...              ...   \n5954        Government  Business Application      Enhancement   \n5965         Financial  Business Application  New Development   \n5991         Financial  Business Application      Enhancement   \n5995        Government  Business Application      Enhancement   \n5998        Government  Business Application  New Development   \n\n     Development Platform Language Type Primary Programming Language  \\\n5                      MF           3GL                         Java   \n33                     MF           3GL                        COBOL   \n54                     MF           3GL                         PL/I   \n90                  Multi           4GL                          SQL   \n106                    PC           3GL                           C#   \n...                   ...           ...                          ...   \n5954                   MF           3GL                        COBOL   \n5965                Multi           4GL                 PowerBuilder   \n5991                   MR           3GL                        COBOL   \n5995                   MF           3GL                         PL/I   \n5998                Multi           4GL                    Datastage   \n\n      Functional Size  Adjusted Function Points  \\\n5               620.0                     620.0   \n33              243.0                     250.0   \n54              163.0                     152.0   \n90              702.0                     702.0   \n106              90.0                     101.0   \n...               ...                       ...   \n5954             12.0                      12.0   \n5965            478.0                     478.0   \n5991            242.0                     213.0   \n5995             96.0                      96.0   \n5998           1048.0                    1048.0   \n\n      Normalised Work Effort Level 1  Project Elapsed Time  \\\n5                            18160.0                   7.0   \n33                            2924.0                   8.0   \n54                             668.0                   9.0   \n90                            4805.0                  12.3   \n106                           2006.0                   5.0   \n...                              ...                   ...   \n5954                           129.0                   3.0   \n5965                          2716.0                   5.8   \n5991                          2185.0                   7.0   \n5995                          1011.0                   6.0   \n5998                          7722.0                  16.0   \n\n     1st Data Base System Used Methodology  \n5                     IMS       Don't Know  \n33                    DB2              Yes  \n54                    DB2              Yes  \n90                 ORACLE       Don't Know  \n106                MS SQL              Yes  \n...                   ...              ...  \n5954          Unspecified              Yes  \n5965               ORACLE       Don't Know  \n5991               ORACLE               No  \n5995                  DB2              Yes  \n5998                  DB2              Yes  \n\n[621 rows x 12 columns]",
      "text/html": "<div>\n<style scoped>\n    .dataframe tbody tr th:only-of-type {\n        vertical-align: middle;\n    }\n\n    .dataframe tbody tr th {\n        vertical-align: top;\n    }\n\n    .dataframe thead th {\n        text-align: right;\n    }\n</style>\n<table border=\"1\" class=\"dataframe\">\n  <thead>\n    <tr style=\"text-align: right;\">\n      <th></th>\n      <th>Industry Sector</th>\n      <th>Application Group</th>\n      <th>Development Type</th>\n      <th>Development Platform</th>\n      <th>Language Type</th>\n      <th>Primary Programming Language</th>\n      <th>Functional Size</th>\n      <th>Adjusted Function Points</th>\n      <th>Normalised Work Effort Level 1</th>\n      <th>Project Elapsed Time</th>\n      <th>1st Data Base System</th>\n      <th>Used Methodology</th>\n    </tr>\n  </thead>\n  <tbody>\n    <tr>\n      <td>5</td>\n      <td>Insurance</td>\n      <td>Business Application</td>\n      <td>New Development</td>\n      <td>MF</td>\n      <td>3GL</td>\n      <td>Java</td>\n      <td>620.0</td>\n      <td>620.0</td>\n      <td>18160.0</td>\n      <td>7.0</td>\n      <td>IMS</td>\n      <td>Don't Know</td>\n    </tr>\n    <tr>\n      <td>33</td>\n      <td>Government</td>\n      <td>Business Application</td>\n      <td>New Development</td>\n      <td>MF</td>\n      <td>3GL</td>\n      <td>COBOL</td>\n      <td>243.0</td>\n      <td>250.0</td>\n      <td>2924.0</td>\n      <td>8.0</td>\n      <td>DB2</td>\n      <td>Yes</td>\n    </tr>\n    <tr>\n      <td>54</td>\n      <td>Utilities</td>\n      <td>Business Application</td>\n      <td>New Development</td>\n      <td>MF</td>\n      <td>3GL</td>\n      <td>PL/I</td>\n      <td>163.0</td>\n      <td>152.0</td>\n      <td>668.0</td>\n      <td>9.0</td>\n      <td>DB2</td>\n      <td>Yes</td>\n    </tr>\n    <tr>\n      <td>90</td>\n      <td>Manufacturing</td>\n      <td>Business Application</td>\n      <td>New Development</td>\n      <td>Multi</td>\n      <td>4GL</td>\n      <td>SQL</td>\n      <td>702.0</td>\n      <td>702.0</td>\n      <td>4805.0</td>\n      <td>12.3</td>\n      <td>ORACLE</td>\n      <td>Don't Know</td>\n    </tr>\n    <tr>\n      <td>106</td>\n      <td>Service Industry</td>\n      <td>Business Application</td>\n      <td>New Development</td>\n      <td>PC</td>\n      <td>3GL</td>\n      <td>C#</td>\n      <td>90.0</td>\n      <td>101.0</td>\n      <td>2006.0</td>\n      <td>5.0</td>\n      <td>MS SQL</td>\n      <td>Yes</td>\n    </tr>\n    <tr>\n      <td>...</td>\n      <td>...</td>\n      <td>...</td>\n      <td>...</td>\n      <td>...</td>\n      <td>...</td>\n      <td>...</td>\n      <td>...</td>\n      <td>...</td>\n      <td>...</td>\n      <td>...</td>\n      <td>...</td>\n      <td>...</td>\n    </tr>\n    <tr>\n      <td>5954</td>\n      <td>Government</td>\n      <td>Business Application</td>\n      <td>Enhancement</td>\n      <td>MF</td>\n      <td>3GL</td>\n      <td>COBOL</td>\n      <td>12.0</td>\n      <td>12.0</td>\n      <td>129.0</td>\n      <td>3.0</td>\n      <td>Unspecified</td>\n      <td>Yes</td>\n    </tr>\n    <tr>\n      <td>5965</td>\n      <td>Financial</td>\n      <td>Business Application</td>\n      <td>New Development</td>\n      <td>Multi</td>\n      <td>4GL</td>\n      <td>PowerBuilder</td>\n      <td>478.0</td>\n      <td>478.0</td>\n      <td>2716.0</td>\n      <td>5.8</td>\n      <td>ORACLE</td>\n      <td>Don't Know</td>\n    </tr>\n    <tr>\n      <td>5991</td>\n      <td>Financial</td>\n      <td>Business Application</td>\n      <td>Enhancement</td>\n      <td>MR</td>\n      <td>3GL</td>\n      <td>COBOL</td>\n      <td>242.0</td>\n      <td>213.0</td>\n      <td>2185.0</td>\n      <td>7.0</td>\n      <td>ORACLE</td>\n      <td>No</td>\n    </tr>\n    <tr>\n      <td>5995</td>\n      <td>Government</td>\n      <td>Business Application</td>\n      <td>Enhancement</td>\n      <td>MF</td>\n      <td>3GL</td>\n      <td>PL/I</td>\n      <td>96.0</td>\n      <td>96.0</td>\n      <td>1011.0</td>\n      <td>6.0</td>\n      <td>DB2</td>\n      <td>Yes</td>\n    </tr>\n    <tr>\n      <td>5998</td>\n      <td>Government</td>\n      <td>Business Application</td>\n      <td>New Development</td>\n      <td>Multi</td>\n      <td>4GL</td>\n      <td>Datastage</td>\n      <td>1048.0</td>\n      <td>1048.0</td>\n      <td>7722.0</td>\n      <td>16.0</td>\n      <td>DB2</td>\n      <td>Yes</td>\n    </tr>\n  </tbody>\n</table>\n<p>621 rows × 12 columns</p>\n</div>"
     },
     "metadata": {},
     "execution_count": 3
    }
   ],
   "source": [
    "import pandas as pd\n",
    "#archivo = '..\\data\\ISBSG - Release May 2017 R1.csv'\n",
    "archivo = '..\\data\\ISBSG DATA Release 12.csv'\n",
    "df = pd.read_csv(archivo, sep = ';', low_memory = False)\n",
    "variables = ['Data Quality Rating', 'UFP rating', 'Industry Sector','Application Group', 'Development Type', 'Development Platform', 'Language Type', 'Primary Programming Language', 'Count Approach', 'Functional Size', 'Adjusted Function Points', 'Normalised Work Effort Level 1', 'Summary Work Effort', 'Project Elapsed Time', 'Business Area Type', '1st Data Base System', 'Used Methodology', 'Resource Level', 'Max Team Size', 'Average Team Size', 'Input count', 'Output count', 'Enquiry count', 'File count', 'Interface count', 'Agile Method Used']\n",
    "df = df.loc[:, variables]\n",
    "filtro = ((df['Data Quality Rating'] == 'A') | (df['Data Quality Rating'] == 'B')) & ((df['UFP rating'] == 'A') | (df['UFP rating'] == 'B')) \n",
    "df = df.loc[filtro, :]\n",
    "filtro = (df['Normalised Work Effort Level 1'].notnull()) & (df['Normalised Work Effort Level 1'] == df['Summary Work Effort'])\n",
    "df = df.loc[filtro, :]\n",
    "filtro = df['Count Approach'] == 'IFPUG 4+'\n",
    "df = df.loc[filtro, :]\n",
    "variables = ['Industry Sector','Application Group', 'Development Type', 'Development Platform', 'Language Type', 'Primary Programming Language', 'Functional Size', 'Adjusted Function Points', 'Normalised Work Effort Level 1', 'Project Elapsed Time', 'Business Area Type', '1st Data Base System', 'Used Methodology', 'Max Team Size', 'Average Team Size', 'Input count', 'Output count', 'Enquiry count', 'File count', 'Interface count', 'Agile Method Used']\n",
    "df = df.loc[:, variables]\n",
    "df = df.dropna(axis=1, thresh=int(0.5*len(df)))\n",
    "df = df.dropna()\n",
    "print(len(df))\n",
    "df['Project Elapsed Time'] = df['Project Elapsed Time'].str.replace(',', '.').astype(float)\n",
    "programmingLenguaje = {'A:G':'Unspecified', 'ASP.Net':'ASP', 'BASIC':'Visual Basic', 'CSP':'Unspecified', 'Visual C':'C'}\n",
    "df['Primary Programming Language'].replace( programmingLenguaje, inplace = True)\n",
    "database = {'[;].*':';','ACCESS[; ].*':'ACCESS', 'MS Access':'ACCESS', 'ADABAS;':'ADABAS', 'Micosoft.*':'Attain', 'DB2[; /].*':'DB2', 'IBM DB2':'DB2', 'UDB2':'DB2', 'Domino[ ].*':'Domino', 'LOTUS.*':'Domino', 'Notes.*':'Domino', 'Exchange.*':'Exchange', 'FOXPRO;':'Foxpro', 'HIRDB;':'HIRDB', 'DB[/].*':'IMS', 'DEDB;':'IMS', 'IDMS[; -].*':'IMS', 'IMS.*':'IMS', 'MS[- ]SQL[; ].*':'MS SQL', 'MSDE.*':'MS SQL', 'SQL Server[; ].*':'MS SQL', 'SQL;':'MS SQL', 'VSE/.*':'MS SQL', 'NCR;':'NCR', 'Oracle.*':'ORACLE', 'Personal O.*':'ORACLE', 'RDB[; ].*':'ORACLE', 'CICS;':'ORACLE', 'SAS;':'SAS', 'Solid;':'Solid', 'SYBASE.*':'SYBASE', 'YES':'Unspecified', 'ISAM;':'Unspecified', 'multiple;':'Unspecified', 'VSAM[; ].*':'Unspecified', 'WATCOM[; ].*':'Watcom', 'WGRES;':'WGRES'}\n",
    "df['1st Data Base System'].replace( database, inplace = True, regex = True)\n",
    "df"
   ]
  },
  {
   "cell_type": "markdown",
   "metadata": {},
   "source": [
    "Nos quedan 624 proyectos aplicando un filtrado similar al original."
   ],
   "execution_count": null,
   "outputs": []
  },
  {
   "cell_type": "code",
   "execution_count": 4,
   "metadata": {},
   "outputs": [
    {
     "output_type": "stream",
     "name": "stdout",
     "text": "---- 1st Data Base System ---\nDB2            214\nORACLE         163\nIMS             76\nMS SQL          46\nUnspecified     27\nNo              21\nACCESS          20\nYes             13\nDomino          10\nSYBASE           9\nExchange         5\nHIRDB            3\nAttain           3\nADABAS           2\nWatcom           2\nACCESS;          2\nWGRES            1\nFoxpro           1\nSAS              1\nNCR              1\nSolid            1\nName: 1st Data Base System, dtype: int64\n\n---- Primary Programming Language ---\nCOBOL                 121\nVisual Basic          114\nPL/I                   78\nJava                   52\nC#                     44\nABAP                   29\nSQL                    25\nC                      23\nC++                    20\nPowerBuilder           12\nLotus Notes            12\nOracle                 12\nPL/SQL                 10\nASP                    10\nAccess                  8\nEASYTRIEVE              7\nPro*C                   6\nRPG                     4\nTELON                   4\nJavaScript              4\nNATURAL                 4\nDatastage               3\nHTML                    3\nC/AL                    3\nOutlookVBA              3\nDELPHI                  2\nUnspecified             2\nVisual Studio .Net      1\nShell                   1\n.Net                    1\nVisual C++              1\nSAS                     1\nAB INITIO               1\nName: Primary Programming Language, dtype: int64\n\n"
    }
   ],
   "source": [
    "#variables = ['Industry Sector', 'Application Group', 'Development Type', 'Platform Development', 'Language Type', 'Primary Programming Language', '1st Data Base System', 'Used Methodology']\n",
    "variables = ['1st Data Base System', 'Primary Programming Language']\n",
    "dcount = df.loc[:, variables]\n",
    "for c in dcount.columns:\n",
    "    print(\"---- %s ---\" % c)\n",
    "    print(dcount[c].value_counts())\n",
    "    print('')"
   ]
  },
  {
   "cell_type": "code",
   "execution_count": null,
   "metadata": {},
   "outputs": [],
   "source": []
  }
 ]
}