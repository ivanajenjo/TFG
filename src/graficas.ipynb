{
 "cells": [
  {
   "cell_type": "code",
   "execution_count": 2,
   "metadata": {},
   "outputs": [],
   "source": [
    "import pandas as pd\n",
    "import numpy as np\n",
    "import matplotlib.pyplot as plt\n",
    "import seaborn as sns\n",
    "datak1 = pd.read_csv(\"500 cross k1.csv\", sep=';')\n",
    "datak2 = pd.read_csv(\"500 cross k2.csv\", sep=';')\n",
    "datak3 = pd.read_csv(\"500 cross k3.csv\", sep=';')\n",
    "datak4 = pd.read_csv(\"500 cross k4.csv\", sep=';')\n",
    "sns.set()"
   ]
  },
  {
   "cell_type": "code",
   "execution_count": 3,
   "metadata": {},
   "outputs": [],
   "source": [
    "filtro1 = (datak1['Metodo'] == 1)\n",
    "filtro2 = (datak1['Metodo'] == 2)\n",
    "filtro3 = (datak1['Metodo'] == 3)\n",
    "filtro4 = (datak1['Metodo'] == 4)\n",
    "data1k1 = datak1.loc[filtro1,:]\n",
    "data2k1 = datak1.loc[filtro2,:]\n",
    "data3k1 = datak1.loc[filtro3,:]\n",
    "data4k1 = datak1.loc[filtro4,:]\n",
    "data_mean1 = data1k1['MMRE'].expanding().mean()\n",
    "data_mean2 = data2k1['MMRE'].expanding().mean()\n",
    "data_mean2.index = range(500)\n",
    "data_mean3 = data3k1['MMRE'].expanding().mean()\n",
    "data_mean3.index = range(500)\n",
    "data_mean4 = data4k1['MMRE'].expanding().mean()\n",
    "data_mean4.index = range(500)\n",
    "filtro1 = (datak2['Metodo'] == 1)\n",
    "filtro2 = (datak2['Metodo'] == 2)\n",
    "filtro3 = (datak2['Metodo'] == 3)\n",
    "filtro4 = (datak2['Metodo'] == 4)\n",
    "data1k2 = datak2.loc[filtro1,:]\n",
    "data2k2 = datak2.loc[filtro2,:]\n",
    "data3k2 = datak2.loc[filtro3,:]\n",
    "data4k2 = datak2.loc[filtro4,:]\n",
    "filtro1 = (datak3['Metodo'] == 1)\n",
    "filtro2 = (datak3['Metodo'] == 2)\n",
    "filtro3 = (datak3['Metodo'] == 3)\n",
    "filtro4 = (datak3['Metodo'] == 4)\n",
    "data1k3 = datak3.loc[filtro1,:]\n",
    "data2k3 = datak3.loc[filtro2,:]\n",
    "data3k3 = datak3.loc[filtro3,:]\n",
    "data4k3 = datak3.loc[filtro4,:]\n",
    "filtro1 = (datak4['Metodo'] == 1)\n",
    "filtro2 = (datak4['Metodo'] == 2)\n",
    "filtro3 = (datak4['Metodo'] == 3)\n",
    "filtro4 = (datak4['Metodo'] == 4)\n",
    "data1k4 = datak4.loc[filtro1,:]\n",
    "data2k4 = datak4.loc[filtro2,:]\n",
    "data3k4 = datak4.loc[filtro3,:]\n",
    "data4k4 = datak4.loc[filtro4,:]"
   ]
  },
  {
   "cell_type": "code",
   "execution_count": null,
   "metadata": {},
   "outputs": [],
   "source": [
    "datafig2_1 = pd.DataFrame({\n",
    "'MI_1L':data_mean1,\n",
    "'mRMR_1L':data_mean2,\n",
    "'MI_2L':data_mean3,\n",
    "'mRMR_2L':data_mean4})\n",
    "datafig2_1.plot(figsize=(16, 8))"
   ]
  },
  {
   "cell_type": "code",
   "execution_count": null,
   "metadata": {},
   "outputs": [],
   "source": [
    "plt.figure(figsize=(15,8))\n",
    "datafig2 = pd.DataFrame({\n",
    "'Iteraciones':range(500),\n",
    "'MI_1L':data_mean1,\n",
    "'mRMR_1L':data_mean2,\n",
    "'MI_2L':data_mean3,\n",
    "'mRMR_2L':data_mean4})\n",
    "sns.lineplot(data=pd.melt(datafig2, ['Iteraciones'], var_name='Algoritmo', value_name='MMRE media'), x='Iteraciones', y='MMRE media', hue='Algoritmo')"
   ]
  },
  {
   "cell_type": "code",
   "execution_count": null,
   "metadata": {},
   "outputs": [],
   "source": [
    "plt.figure(figsize=(15,15))\n",
    "sns.boxplot(data=[data1k1['MMRE'], data2k1['MMRE'], data3k1['MMRE'], data4k1['MMRE']])"
   ]
  },
  {
   "cell_type": "code",
   "execution_count": null,
   "metadata": {
    "tags": []
   },
   "outputs": [],
   "source": [
    "#Tolerancia con MI_1L\n",
    "i = 0\n",
    "valor_anterior = 0\n",
    "repeticiones = 0\n",
    "for index, value in data_mean1.iteritems():\n",
    "    if abs((valor_anterior / value) - 1) < 0.0003 :\n",
    "        repeticiones += 1\n",
    "    else:\n",
    "        repeticiones = 0\n",
    "    if repeticiones == 50:\n",
    "        print('El resultado es', i)\n",
    "        break\n",
    "    i += 1\n",
    "    valor_anterior = value"
   ]
  },
  {
   "cell_type": "code",
   "execution_count": null,
   "metadata": {
    "tags": []
   },
   "outputs": [],
   "source": [
    "#Tabla 4\n",
    "data_table4 = {'MI_1L':[data1k1['MMRE'].mean(), data1k2['MMRE'].mean(), data1k3['MMRE'].mean(), data1k4['MMRE'].mean()], 'mRMR_1L':[data2k1['MMRE'].mean(), data2k2['MMRE'].mean(), data2k3['MMRE'].mean(), data2k4['MMRE'].mean()], 'MI_2L':[data3k1['MMRE'].mean(), data3k2['MMRE'].mean(), data3k3['MMRE'].mean(), data3k4['MMRE'].mean()], 'mRMR_2L':[data4k1['MMRE'].mean(), data4k2['MMRE'].mean(), data4k3['MMRE'].mean(), data4k4['MMRE'].mean()]}\n",
    "table4df = pd.DataFrame(data_table4, index=['K = 1', 'K = 2', 'K = 3', 'K = 4'])\n",
    "table4df"
   ]
  },
  {
   "cell_type": "code",
   "execution_count": null,
   "metadata": {},
   "outputs": [],
   "source": [
    "#Table 5\n",
    "data_table5 = {'Media':[data1k1['Tiempo'].mean(), data2k1['Tiempo'].mean(), data3k1['Tiempo'].mean(), data4k1['Tiempo'].mean()], 'Desviación Típica':[data1k1['Tiempo'].std(), data2k1['Tiempo'].std(), data3k1['Tiempo'].std(), data4k1['Tiempo'].std()]}\n",
    "table5df = pd.DataFrame(data_table5, index=['MI_1L', 'mRMR_1L', 'MI_2L', 'mRMR_2L'])\n",
    "table5df"
   ]
  },
  {
   "cell_type": "code",
   "execution_count": 4,
   "metadata": {
    "tags": []
   },
   "outputs": [],
   "source": [
    "#Limpieza de las Variables seleccionadas\n",
    "data_variables = datak1['Variables Elegidas']\n",
    "final = list()\n",
    "for item in data_variables.iteritems():\n",
    "    aux = list(item[1].split(', '))\n",
    "    linea = list()\n",
    "    for word in aux:\n",
    "        word = word.replace('[', '')\n",
    "        word = word.replace(']', '')\n",
    "        word = word.replace(\"'\", '')\n",
    "        linea.append(word)\n",
    "    final.append(linea)"
   ]
  },
  {
   "cell_type": "code",
   "execution_count": 5,
   "metadata": {},
   "outputs": [],
   "source": [
    "#Recuento de las Variables\n",
    "datatable7 = []\n",
    "for itera in final:\n",
    "    try:\n",
    "        afp = itera.index('Adjusted Function Points') if 'Adjusted Function Points' in itera else 12\n",
    "        fsz = itera.index('Functional Size') if 'Functional Size' in itera else 12\n",
    "        pet = itera.index('Project Elapsed Time') if 'Project Elapsed Time' in itera else 12\n",
    "        ppl = itera.index('Primary Programming Language') if 'Primary Programming Language' in itera else 12 \n",
    "        ise = itera.index('Industry Sector') if 'Industry Sector' in itera else 12\n",
    "        dbs = itera.index('1st Data Base System') if '1st Data Base System' in itera else 12\n",
    "        dpl = itera.index('Development Platform') if 'Development Platform' in itera else 12\n",
    "        umt = itera.index('Used Methodology') if 'Used Methodology' in itera else 12\n",
    "        dty = itera.index('Development Type') if 'Development Type' in itera else 12\n",
    "        lgt = itera.index('Language Type') if 'Language Type' in itera else 12\n",
    "        agr = itera.index('Application Group') if 'Application Group' in itera else 12\n",
    "    except:\n",
    "        pass\n",
    "    datatable7.append([afp, fsz, pet, ppl, ise, dbs, dpl, umt, dty, lgt, agr])\n",
    "variablesdf = pd.DataFrame(datatable7, columns=['Adjusted Function Points', 'Functional Size', 'Project Elapsed Time', 'Primary Programming Language', 'Industry Sector', '1st Data Base System', 'Development Platform', 'Used Methodology', 'Development Type', 'Language Type', 'Application Group'])"
   ]
  },
  {
   "cell_type": "code",
   "execution_count": null,
   "metadata": {},
   "outputs": [],
   "source": []
  }
 ],
 "metadata": {
  "language_info": {
   "codemirror_mode": {
    "name": "ipython",
    "version": 3
   },
   "file_extension": ".py",
   "mimetype": "text/x-python",
   "name": "python",
   "nbconvert_exporter": "python",
   "pygments_lexer": "ipython3",
   "version": "3.7.6-final"
  },
  "orig_nbformat": 2,
  "kernelspec": {
   "name": "python_defaultSpec_1593181080101",
   "display_name": "Python 3.7.6 64-bit ('base': conda)"
  }
 },
 "nbformat": 4,
 "nbformat_minor": 2
}