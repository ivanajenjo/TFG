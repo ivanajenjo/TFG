{
 "cells": [
  {
   "cell_type": "code",
   "execution_count": 1,
   "metadata": {},
   "outputs": [],
   "source": [
    "import pandas as pd\n",
    "import numpy as np\n",
    "import matplotlib.pyplot as plt\n",
    "import seaborn as sns\n",
    "datak1 = pd.read_csv(\"500 cross k1 v2.csv\", sep=';')\n",
    "sns.set()"
   ]
  },
  {
   "cell_type": "code",
   "execution_count": 2,
   "metadata": {},
   "outputs": [],
   "source": [
    "filtro1 = (datak1['Metodo'] == 1)\n",
    "filtro2 = (datak1['Metodo'] == 2)\n",
    "filtro3 = (datak1['Metodo'] == 3)\n",
    "filtro4 = (datak1['Metodo'] == 4)\n",
    "data1k1 = datak1.loc[filtro1,:]\n",
    "data2k1 = datak1.loc[filtro2,:]\n",
    "data3k1 = datak1.loc[filtro3,:]\n",
    "data4k1 = datak1.loc[filtro4,:]"
   ]
  },
  {
   "cell_type": "code",
   "execution_count": null,
   "metadata": {
    "tags": []
   },
   "outputs": [],
   "source": [
    "#Tolerancia con MI_1L NOT WORKING\n",
    "for i in range(50, data_mean1.size):\n",
    "    if np.var(data_mean1.loc[i-50:i]) < 0.5:\n",
    "        print(i)"
   ]
  },
  {
   "cell_type": "code",
   "execution_count": 3,
   "metadata": {},
   "outputs": [],
   "source": [
    "data_variables = data1k1['Variables Elegidas']\n",
    "final1 = list()\n",
    "for item in data_variables.iteritems():\n",
    "    aux = list(item[1].split(', '))\n",
    "    linea = list()\n",
    "    for word in aux:\n",
    "        word = word.replace('[', '')\n",
    "        word = word.replace(']', '')\n",
    "        word = word.replace(\"'\", '')\n",
    "        linea.append(word)\n",
    "    final1.append(linea)\n",
    "\n",
    "data_variables = data2k1['Variables Elegidas']\n",
    "final2 = list()\n",
    "for item in data_variables.iteritems():\n",
    "    aux = list(item[1].split(', '))\n",
    "    linea = list()\n",
    "    for word in aux:\n",
    "        word = word.replace('[', '')\n",
    "        word = word.replace(']', '')\n",
    "        word = word.replace(\"'\", '')\n",
    "        linea.append(word)\n",
    "    final2.append(linea)\n",
    "\n",
    "data_variables = data3k1['Variables Elegidas']\n",
    "final3 = list()\n",
    "for item in data_variables.iteritems():\n",
    "    aux = list(item[1].split(', '))\n",
    "    linea = list()\n",
    "    for word in aux:\n",
    "        word = word.replace('[', '')\n",
    "        word = word.replace(']', '')\n",
    "        word = word.replace(\"'\", '')\n",
    "        linea.append(word)\n",
    "    final3.append(linea)\n",
    "\n",
    "data_variables = data4k1['Variables Elegidas']\n",
    "final4 = list()\n",
    "for item in data_variables.iteritems():\n",
    "    aux = list(item[1].split(', '))\n",
    "    linea = list()\n",
    "    for word in aux:\n",
    "        word = word.replace('[', '')\n",
    "        word = word.replace(']', '')\n",
    "        word = word.replace(\"'\", '')\n",
    "        linea.append(word)\n",
    "    final4.append(linea)"
   ]
  },
  {
   "cell_type": "code",
   "execution_count": null,
   "metadata": {},
   "outputs": [],
   "source": [
    "x1 = list()\n",
    "for fila in final1:\n",
    "    x1.append(len(fila))\n",
    "\n",
    "x2 = list()\n",
    "for fila in final2:\n",
    "    x2.append(len(fila))\n",
    "\n",
    "x3 = list()\n",
    "for fila in final3:\n",
    "    x3.append(len(fila))\n",
    "\n",
    "x4 = list()\n",
    "for fila in final4:\n",
    "    x4.append(len(fila))\n",
    "\n",
    "fig, axs = plt.subplots(2, 2, figsize=(12,12))\n",
    "sns.countplot(x1, ax=axs[0, 0])\n",
    "axs[0, 0].set_title('MI_1L')\n",
    "sns.countplot(x2, ax=axs[0, 1])\n",
    "axs[0, 1].set_title('mRMR_1L')\n",
    "sns.countplot(x3, ax=axs[1, 0])\n",
    "axs[1, 0].set_title('MI_2L')\n",
    "sns.countplot(x4, ax=axs[1, 1])\n",
    "axs[1, 1].set_title('mRMR_2L')"
   ]
  },
  {
   "cell_type": "code",
   "execution_count": null,
   "metadata": {},
   "outputs": [],
   "source": [
    "data_mean1 = data1k1['MMRE'].expanding().mean()\n",
    "data_mean2 = data2k1['MMRE'].expanding().mean()\n",
    "data_mean2.index = range(500)\n",
    "data_mean3 = data3k1['MMRE'].expanding().mean()\n",
    "data_mean3.index = range(500)\n",
    "data_mean4 = data4k1['MMRE'].expanding().mean()\n",
    "data_mean4.index = range(500)\n",
    "\n",
    "datafig2_1 = pd.DataFrame({\n",
    "'MI_1L':data_mean1,\n",
    "'mRMR_1L':data_mean2,\n",
    "'MI_2L':data_mean3,\n",
    "'mRMR_2L':data_mean4})\n",
    "datafig2_1.plot(figsize=(16, 8))"
   ]
  },
  {
   "cell_type": "code",
   "execution_count": null,
   "metadata": {},
   "outputs": [],
   "source": [
    "plt.figure(figsize=(15,8))\n",
    "datafig2 = pd.DataFrame({\n",
    "'Iteraciones':range(500),\n",
    "'MI_1L':data_mean1,\n",
    "'mRMR_1L':data_mean2,\n",
    "'MI_2L':data_mean3,\n",
    "'mRMR_2L':data_mean4})\n",
    "sns.lineplot(data=pd.melt(datafig2, ['Iteraciones'], var_name='Algoritmo', value_name='MMRE media'), x='Iteraciones', y='MMRE media', hue='Algoritmo')"
   ]
  },
  {
   "cell_type": "code",
   "execution_count": null,
   "metadata": {},
   "outputs": [],
   "source": [
    "plt.figure(figsize=(15,15))\n",
    "sns.boxplot(data=[data1k1['MMRE'], data2k1['MMRE'], data3k1['MMRE'], data4k1['MMRE']])"
   ]
  },
  {
   "cell_type": "code",
   "execution_count": null,
   "metadata": {
    "tags": []
   },
   "outputs": [],
   "source": [
    "#Tabla 4\n",
    "data_table4 = {'MI_1L':[data1k1['MMRE'].mean(), data1k2['MMRE'].mean(), data1k3['MMRE'].mean(), data1k4['MMRE'].mean()], 'mRMR_1L':[data2k1['MMRE'].mean(), data2k2['MMRE'].mean(), data2k3['MMRE'].mean(), data2k4['MMRE'].mean()], 'MI_2L':[data3k1['MMRE'].mean(), data3k2['MMRE'].mean(), data3k3['MMRE'].mean(), data3k4['MMRE'].mean()], 'mRMR_2L':[data4k1['MMRE'].mean(), data4k2['MMRE'].mean(), data4k3['MMRE'].mean(), data4k4['MMRE'].mean()]}\n",
    "table4df = pd.DataFrame(data_table4, index=['K = 1', 'K = 2', 'K = 3', 'K = 4'])\n",
    "table4df"
   ]
  },
  {
   "cell_type": "code",
   "execution_count": null,
   "metadata": {},
   "outputs": [],
   "source": [
    "#Table 5\n",
    "data_table5 = {'Media':[data1k1['Tiempo'].mean(), data2k1['Tiempo'].mean(), data3k1['Tiempo'].mean(), data4k1['Tiempo'].mean()], 'Desviación Típica':[data1k1['Tiempo'].std(), data2k1['Tiempo'].std(), data3k1['Tiempo'].std(), data4k1['Tiempo'].std()]}\n",
    "table5df = pd.DataFrame(data_table5, index=['MI_1L', 'mRMR_1L', 'MI_2L', 'mRMR_2L'])\n",
    "table5df"
   ]
  },
  {
   "cell_type": "code",
   "execution_count": null,
   "metadata": {
    "tags": []
   },
   "outputs": [],
   "source": [
    "#Limpieza de las Variables seleccionadas\n",
    "data_variables = data4k1['Variables Elegidas']\n",
    "final = list()\n",
    "for item in data_variables.iteritems():\n",
    "    aux = list(item[1].split(', '))\n",
    "    linea = list()\n",
    "    for word in aux:\n",
    "        word = word.replace('[', '')\n",
    "        word = word.replace(']', '')\n",
    "        word = word.replace(\"'\", '')\n",
    "        linea.append(word)\n",
    "    final.append(linea)"
   ]
  },
  {
   "cell_type": "code",
   "execution_count": null,
   "metadata": {},
   "outputs": [],
   "source": [
    "filtro1 = (datak1['Metodo'] == 1)\n",
    "filtro2 = (datak1['Metodo'] == 2)\n",
    "filtro3 = (datak1['Metodo'] == 3)\n",
    "filtro4 = (datak1['Metodo'] == 4)\n",
    "data1k1 = datak1.loc[filtro1,:]\n",
    "data2k1 = datak1.loc[filtro2,:]\n",
    "data3k1 = datak1.loc[filtro3,:]\n",
    "data4k1 = datak1.loc[filtro4,:]\n",
    "data_mean1 = data1k1['MMRE'].expanding().mean()\n",
    "data_mean2 = data2k1['MMRE'].expanding().mean()\n",
    "data_mean2.index = range(500)\n",
    "data_mean3 = data3k1['MMRE'].expanding().mean()\n",
    "data_mean3.index = range(500)\n",
    "data_mean4 = data4k1['MMRE'].expanding().mean()\n",
    "data_mean4.index = range(500)\n",
    "filtro1 = (datak2['Metodo'] == 1)\n",
    "filtro2 = (datak2['Metodo'] == 2)\n",
    "filtro3 = (datak2['Metodo'] == 3)\n",
    "filtro4 = (datak2['Metodo'] == 4)\n",
    "data1k2 = datak2.loc[filtro1,:]\n",
    "data2k2 = datak2.loc[filtro2,:]\n",
    "data3k2 = datak2.loc[filtro3,:]\n",
    "data4k2 = datak2.loc[filtro4,:]\n",
    "filtro1 = (datak3['Metodo'] == 1)\n",
    "filtro2 = (datak3['Metodo'] == 2)\n",
    "filtro3 = (datak3['Metodo'] == 3)\n",
    "filtro4 = (datak3['Metodo'] == 4)\n",
    "data1k3 = datak3.loc[filtro1,:]\n",
    "data2k3 = datak3.loc[filtro2,:]\n",
    "data3k3 = datak3.loc[filtro3,:]\n",
    "data4k3 = datak3.loc[filtro4,:]\n",
    "filtro1 = (datak4['Metodo'] == 1)\n",
    "filtro2 = (datak4['Metodo'] == 2)\n",
    "filtro3 = (datak4['Metodo'] == 3)\n",
    "filtro4 = (datak4['Metodo'] == 4)\n",
    "data1k4 = datak4.loc[filtro1,:]\n",
    "data2k4 = datak4.loc[filtro2,:]\n",
    "data3k4 = datak4.loc[filtro3,:]\n",
    "data4k4 = datak4.loc[filtro4,:]"
   ]
  },
  {
   "cell_type": "code",
   "execution_count": null,
   "metadata": {
    "tags": []
   },
   "outputs": [],
   "source": [
    "#Figura 6\n",
    "x = list()\n",
    "for fila in final:\n",
    "    x.append(len(fila))\n",
    "plt.figure(figsize=(5,5))\n",
    "sns.countplot(x)"
   ]
  },
  {
   "cell_type": "code",
   "execution_count": null,
   "metadata": {
    "tags": []
   },
   "outputs": [],
   "source": [
    "print(data1k1['Tiempo'].std())\n",
    "print(data2k1['Tiempo'].std())\n",
    "print(data3k1['Tiempo'].std())\n",
    "print(data4k1['Tiempo'].std())"
   ]
  },
  {
   "cell_type": "code",
   "execution_count": 4,
   "metadata": {},
   "outputs": [],
   "source": [
    "#Recuento de las Variables\n",
    "datatable7 = []\n",
    "for itera in final4:\n",
    "    try:\n",
    "        afp = itera.index('Adjusted Function Points') if 'Adjusted Function Points' in itera else 12\n",
    "        fsz = itera.index('Functional Size') if 'Functional Size' in itera else 12\n",
    "        pet = itera.index('Project Elapsed Time') if 'Project Elapsed Time' in itera else 12\n",
    "        ppl = itera.index('Primary Programming Language') if 'Primary Programming Language' in itera else 12 \n",
    "        ise = itera.index('Industry Sector') if 'Industry Sector' in itera else 12\n",
    "        dbs = itera.index('1st Data Base System') if '1st Data Base System' in itera else 12\n",
    "        dpl = itera.index('Development Platform') if 'Development Platform' in itera else 12\n",
    "        umt = itera.index('Used Methodology') if 'Used Methodology' in itera else 12\n",
    "        dty = itera.index('Development Type') if 'Development Type' in itera else 12\n",
    "        lgt = itera.index('Language Type') if 'Language Type' in itera else 12\n",
    "        agr = itera.index('Application Group') if 'Application Group' in itera else 12\n",
    "    except:\n",
    "        pass\n",
    "    datatable7.append([afp, fsz, pet, ppl, ise, dbs, dpl, umt, dty, lgt, agr])\n",
    "variablesdf = pd.DataFrame(datatable7, columns=['Adjusted Function Points', 'Functional Size', 'Project Elapsed Time', 'Primary Programming Language', 'Industry Sector', '1st Data Base System', 'Development Platform', 'Used Methodology', 'Development Type', 'Language Type', 'Application Group'])"
   ]
  },
  {
   "cell_type": "code",
   "execution_count": 8,
   "metadata": {
    "tags": []
   },
   "outputs": [
    {
     "output_type": "stream",
     "name": "stdout",
     "text": "0    500\nName: Adjusted Function Points, dtype: int64\n12    273\n1     183\n2      35\n3       9\nName: Functional Size, dtype: int64\n2     218\n12    110\n1      98\n3      57\n4      17\nName: Project Elapsed Time, dtype: int64\n12    405\n3      40\n2      30\n4      17\n1       6\n5       2\nName: Primary Programming Language, dtype: int64\n12    411\n3      32\n4      29\n2      22\n5       4\n6       1\n1       1\nName: Industry Sector, dtype: int64\n12    442\n4      21\n3      16\n5      14\n2       5\n7       1\n6       1\nName: 1st Data Base System, dtype: int64\n12    326\n3      75\n2      66\n1      21\n4      12\nName: Development Platform, dtype: int64\n12    425\n4      34\n3      24\n2       8\n5       6\n1       3\nName: Used Methodology, dtype: int64\n12    239\n1     181\n2      46\n3      34\nName: Development Type, dtype: int64\n12    444\n4      26\n3      11\n5      10\n2       7\n6       2\nName: Language Type, dtype: int64\n12    434\n3      28\n4      22\n5       9\n2       5\n6       2\nName: Application Group, dtype: int64\n"
    }
   ],
   "source": [
    "#datos tabla 7\n",
    "variablesdf['Functional Size'].value_counts()\n",
    "listavariables = ['Adjusted Function Points', 'Functional Size', 'Project Elapsed Time', 'Primary Programming Language', 'Industry Sector', '1st Data Base System', 'Development Platform', 'Used Methodology', 'Development Type', 'Language Type', 'Application Group']\n",
    "for var in listavariables: \n",
    "    print(variablesdf[var].value_counts())"
   ]
  },
  {
   "cell_type": "code",
   "execution_count": null,
   "metadata": {},
   "outputs": [],
   "source": []
  }
 ],
 "metadata": {
  "language_info": {
   "codemirror_mode": {
    "name": "ipython",
    "version": 3
   },
   "file_extension": ".py",
   "mimetype": "text/x-python",
   "name": "python",
   "nbconvert_exporter": "python",
   "pygments_lexer": "ipython3",
   "version": "3.7.6-final"
  },
  "orig_nbformat": 2,
  "kernelspec": {
   "name": "python_defaultSpec_1596445020640",
   "display_name": "Python 3.7.6 64-bit ('base': conda)"
  }
 },
 "nbformat": 4,
 "nbformat_minor": 2
}