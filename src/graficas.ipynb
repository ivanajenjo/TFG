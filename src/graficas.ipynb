{
 "cells": [
  {
   "cell_type": "code",
   "execution_count": 8,
   "metadata": {},
   "outputs": [],
   "source": [
    "import pandas as pd\n",
    "import numpy as np\n",
    "import matplotlib.pyplot as plt\n",
    "data = pd.read_csv(\"csv.csv\", sep=';')"
   ]
  },
  {
   "cell_type": "code",
   "execution_count": 10,
   "metadata": {},
   "outputs": [
    {
     "output_type": "execute_result",
     "data": {
      "text/plain": "       MMRE  k                                 Variables Elegidas  Metodo  \\\n0  1.557028  1  ['Adjusted Function Points', 'Project Elapsed ...       1   \n1  1.662122  1  ['Adjusted Function Points', 'Functional Size'...       1   \n\n      Tiempo  Iteracion  \n0  26.120053          0  \n1  26.362067          1  ",
      "text/html": "<div>\n<style scoped>\n    .dataframe tbody tr th:only-of-type {\n        vertical-align: middle;\n    }\n\n    .dataframe tbody tr th {\n        vertical-align: top;\n    }\n\n    .dataframe thead th {\n        text-align: right;\n    }\n</style>\n<table border=\"1\" class=\"dataframe\">\n  <thead>\n    <tr style=\"text-align: right;\">\n      <th></th>\n      <th>MMRE</th>\n      <th>k</th>\n      <th>Variables Elegidas</th>\n      <th>Metodo</th>\n      <th>Tiempo</th>\n      <th>Iteracion</th>\n    </tr>\n  </thead>\n  <tbody>\n    <tr>\n      <th>0</th>\n      <td>1.557028</td>\n      <td>1</td>\n      <td>['Adjusted Function Points', 'Project Elapsed ...</td>\n      <td>1</td>\n      <td>26.120053</td>\n      <td>0</td>\n    </tr>\n    <tr>\n      <th>1</th>\n      <td>1.662122</td>\n      <td>1</td>\n      <td>['Adjusted Function Points', 'Functional Size'...</td>\n      <td>1</td>\n      <td>26.362067</td>\n      <td>1</td>\n    </tr>\n  </tbody>\n</table>\n</div>"
     },
     "metadata": {},
     "execution_count": 10
    }
   ],
   "source": [
    "filtro = (data['k'] == 1) & (data['Metodo'] == 1)\n",
    "data1 = data.loc[filtro,:]\n",
    "data1"
   ]
  },
  {
   "cell_type": "code",
   "execution_count": 8,
   "metadata": {
    "tags": []
   },
   "outputs": [
    {
     "output_type": "stream",
     "name": "stdout",
     "text": "['Adjusted Function Points', 'Project Elapsed Time', 'Primary Programming Language', 'Development Platform', 'Application Group']\n['Adjusted Function Points', 'Functional Size', 'Project Elapsed Time', 'Industry Sector', '1st Data Base System']\n['Adjusted Function Points', 'Development Platform', 'Application Group']\n['Adjusted Function Points', 'Development Platform', 'Project Elapsed Time', 'Primary Programming Language', 'Development Type']\n['Adjusted Function Points', 'Project Elapsed Time', 'Primary Programming Language', 'Application Group']\n['Adjusted Function Points', 'Project Elapsed Time']\n['Adjusted Function Points', 'Project Elapsed Time', 'Development Platform', 'Language Type']\n['Adjusted Function Points', 'Project Elapsed Time', 'Functional Size', 'Development Type']\n"
    }
   ],
   "source": [
    "data_variables = data['Variables Elegidas']\n",
    "for item in data_variables.iteritems():\n",
    "    print(item[1])"
   ]
  },
  {
   "cell_type": "code",
   "execution_count": null,
   "metadata": {},
   "outputs": [],
   "source": []
  }
 ],
 "metadata": {
  "language_info": {
   "codemirror_mode": {
    "name": "ipython",
    "version": 3
   },
   "file_extension": ".py",
   "mimetype": "text/x-python",
   "name": "python",
   "nbconvert_exporter": "python",
   "pygments_lexer": "ipython3",
   "version": "3.7.6-final"
  },
  "orig_nbformat": 2,
  "kernelspec": {
   "name": "python37464bitprogramdatavirtualenvee9d63b05d5c484496b6097fa197c876",
   "display_name": "Python 3.7.4 64-bit ('ProgramData': virtualenv)"
  }
 },
 "nbformat": 4,
 "nbformat_minor": 2
}