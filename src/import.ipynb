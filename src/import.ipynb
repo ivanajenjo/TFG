{
 "nbformat": 4,
 "nbformat_minor": 2,
 "metadata": {
  "language_info": {
   "name": "python",
   "codemirror_mode": {
    "name": "ipython",
    "version": 3
   },
   "version": "3.7.4-final"
  },
  "orig_nbformat": 2,
  "file_extension": ".py",
  "mimetype": "text/x-python",
  "name": "python",
  "npconvert_exporter": "python",
  "pygments_lexer": "ipython3",
  "version": 3,
  "kernelspec": {
   "name": "python37464bitprogramdatavirtualenvee9d63b05d5c484496b6097fa197c876",
   "display_name": "Python 3.7.4 64-bit ('ProgramData': virtualenv)"
  }
 },
 "cells": [
  {
   "cell_type": "markdown",
   "execution_count": null,
   "metadata": {},
   "outputs": [],
   "source": [
    "Importamos la BD, despues de la importacion tenemos 8012 filas y 25 columnas"
   ]
  },
  {
   "cell_type": "code",
   "execution_count": 2,
   "metadata": {},
   "outputs": [
    {
     "data": {
      "text/html": "<div>\n<style scoped>\n    .dataframe tbody tr th:only-of-type {\n        vertical-align: middle;\n    }\n\n    .dataframe tbody tr th {\n        vertical-align: top;\n    }\n\n    .dataframe thead th {\n        text-align: right;\n    }\n</style>\n<table border=\"1\" class=\"dataframe\">\n  <thead>\n    <tr style=\"text-align: right;\">\n      <th></th>\n      <th>ISBSG Project ID</th>\n      <th>Data Quality Rating</th>\n      <th>UFP rating</th>\n      <th>Application Group</th>\n      <th>Development Type</th>\n      <th>Development Platform</th>\n      <th>Language Type</th>\n      <th>Primary Programming Language</th>\n      <th>Count Approach</th>\n      <th>Functional Size</th>\n      <th>...</th>\n      <th>Used Methodology</th>\n      <th>Resource Level</th>\n      <th>Max Team Size</th>\n      <th>Average Team Size</th>\n      <th>Input count</th>\n      <th>Output count</th>\n      <th>Enquiry count</th>\n      <th>File count</th>\n      <th>Interface count</th>\n      <th>Agile Method Used</th>\n    </tr>\n  </thead>\n  <tbody>\n    <tr>\n      <td>0</td>\n      <td>10001</td>\n      <td>D</td>\n      <td>A</td>\n      <td>Business Application</td>\n      <td>New Development</td>\n      <td>MR</td>\n      <td>4GL</td>\n      <td>Oracle</td>\n      <td>NESMA</td>\n      <td>237.0</td>\n      <td>...</td>\n      <td>No</td>\n      <td>1.0</td>\n      <td>5</td>\n      <td>5</td>\n      <td>60</td>\n      <td>110</td>\n      <td>10.0</td>\n      <td>42</td>\n      <td>15.0</td>\n      <td>NaN</td>\n    </tr>\n    <tr>\n      <td>1</td>\n      <td>10011</td>\n      <td>B</td>\n      <td>A</td>\n      <td>Business Application</td>\n      <td>New Development</td>\n      <td>Multi</td>\n      <td>4GL</td>\n      <td>Access</td>\n      <td>IFPUG 4+</td>\n      <td>443.0</td>\n      <td>...</td>\n      <td>Don't Know</td>\n      <td>1.0</td>\n      <td>NaN</td>\n      <td>NaN</td>\n      <td>NaN</td>\n      <td>NaN</td>\n      <td>NaN</td>\n      <td>NaN</td>\n      <td>NaN</td>\n      <td>NaN</td>\n    </tr>\n    <tr>\n      <td>2</td>\n      <td>10012</td>\n      <td>B</td>\n      <td>A</td>\n      <td>Business Application</td>\n      <td>Enhancement</td>\n      <td>NaN</td>\n      <td>3GL</td>\n      <td>COBOL</td>\n      <td>IFPUG 4+</td>\n      <td>76.0</td>\n      <td>...</td>\n      <td>Yes</td>\n      <td>1.0</td>\n      <td>NaN</td>\n      <td>NaN</td>\n      <td>NaN</td>\n      <td>NaN</td>\n      <td>NaN</td>\n      <td>NaN</td>\n      <td>NaN</td>\n      <td>NaN</td>\n    </tr>\n    <tr>\n      <td>3</td>\n      <td>10014</td>\n      <td>B</td>\n      <td>A</td>\n      <td>NaN</td>\n      <td>Enhancement</td>\n      <td>NaN</td>\n      <td>NaN</td>\n      <td>NaN</td>\n      <td>IFPUG 4+</td>\n      <td>3.0</td>\n      <td>...</td>\n      <td>NaN</td>\n      <td>1.0</td>\n      <td>NaN</td>\n      <td>NaN</td>\n      <td>NaN</td>\n      <td>NaN</td>\n      <td>NaN</td>\n      <td>NaN</td>\n      <td>NaN</td>\n      <td>NaN</td>\n    </tr>\n    <tr>\n      <td>4</td>\n      <td>10015</td>\n      <td>B</td>\n      <td>A</td>\n      <td>Business Application</td>\n      <td>Enhancement</td>\n      <td>MF</td>\n      <td>3GL</td>\n      <td>COBOL</td>\n      <td>IFPUG 4+</td>\n      <td>382.0</td>\n      <td>...</td>\n      <td>Yes</td>\n      <td>4.0</td>\n      <td>NaN</td>\n      <td>NaN</td>\n      <td>186</td>\n      <td>7</td>\n      <td>172.0</td>\n      <td>7</td>\n      <td>10.0</td>\n      <td>NaN</td>\n    </tr>\n    <tr>\n      <td>...</td>\n      <td>...</td>\n      <td>...</td>\n      <td>...</td>\n      <td>...</td>\n      <td>...</td>\n      <td>...</td>\n      <td>...</td>\n      <td>...</td>\n      <td>...</td>\n      <td>...</td>\n      <td>...</td>\n      <td>...</td>\n      <td>...</td>\n      <td>...</td>\n      <td>...</td>\n      <td>...</td>\n      <td>...</td>\n      <td>...</td>\n      <td>...</td>\n      <td>...</td>\n      <td>...</td>\n    </tr>\n    <tr>\n      <td>6001</td>\n      <td>32756</td>\n      <td>B</td>\n      <td>B</td>\n      <td>Business Application</td>\n      <td>Enhancement</td>\n      <td>MF</td>\n      <td>3GL</td>\n      <td>COBOL</td>\n      <td>IFPUG 4+</td>\n      <td>23.0</td>\n      <td>...</td>\n      <td>Yes</td>\n      <td>1.0</td>\n      <td>NaN</td>\n      <td>NaN</td>\n      <td>NaN</td>\n      <td>NaN</td>\n      <td>NaN</td>\n      <td>NaN</td>\n      <td>NaN</td>\n      <td>NaN</td>\n    </tr>\n    <tr>\n      <td>6002</td>\n      <td>32757</td>\n      <td>B</td>\n      <td>A</td>\n      <td>NaN</td>\n      <td>New Development</td>\n      <td>NaN</td>\n      <td>NaN</td>\n      <td>NaN</td>\n      <td>IFPUG 4+</td>\n      <td>291.0</td>\n      <td>...</td>\n      <td>Don't Know</td>\n      <td>1.0</td>\n      <td>3</td>\n      <td>1,7</td>\n      <td>NaN</td>\n      <td>NaN</td>\n      <td>NaN</td>\n      <td>NaN</td>\n      <td>NaN</td>\n      <td>NaN</td>\n    </tr>\n    <tr>\n      <td>6003</td>\n      <td>32758</td>\n      <td>B</td>\n      <td>A</td>\n      <td>Business Application</td>\n      <td>Enhancement</td>\n      <td>MF</td>\n      <td>3GL</td>\n      <td>COBOL</td>\n      <td>IFPUG 4+</td>\n      <td>119.0</td>\n      <td>...</td>\n      <td>Yes</td>\n      <td>4.0</td>\n      <td>NaN</td>\n      <td>NaN</td>\n      <td>18</td>\n      <td>46</td>\n      <td>18.0</td>\n      <td>7</td>\n      <td>30.0</td>\n      <td>NaN</td>\n    </tr>\n    <tr>\n      <td>6004</td>\n      <td>32766</td>\n      <td>A</td>\n      <td>NaN</td>\n      <td>Business Application</td>\n      <td>New Development</td>\n      <td>PC</td>\n      <td>3GL</td>\n      <td>C</td>\n      <td>COSMIC</td>\n      <td>45.0</td>\n      <td>...</td>\n      <td>Yes</td>\n      <td>4.0</td>\n      <td>3</td>\n      <td>1,8</td>\n      <td>NaN</td>\n      <td>NaN</td>\n      <td>NaN</td>\n      <td>NaN</td>\n      <td>NaN</td>\n      <td>NaN</td>\n    </tr>\n    <tr>\n      <td>6005</td>\n      <td>32767</td>\n      <td>B</td>\n      <td>B</td>\n      <td>Business Application</td>\n      <td>Enhancement</td>\n      <td>Multi</td>\n      <td>3GL</td>\n      <td>Java</td>\n      <td>IFPUG 4+</td>\n      <td>95.0</td>\n      <td>...</td>\n      <td>Yes</td>\n      <td>3.0</td>\n      <td>NaN</td>\n      <td>NaN</td>\n      <td>NaN</td>\n      <td>NaN</td>\n      <td>NaN</td>\n      <td>NaN</td>\n      <td>NaN</td>\n      <td>NaN</td>\n    </tr>\n  </tbody>\n</table>\n<p>6006 rows × 25 columns</p>\n</div>",
      "text/plain": "      ISBSG Project ID Data Quality Rating UFP rating     Application Group  \\\n0                10001                   D          A  Business Application   \n1                10011                   B          A  Business Application   \n2                10012                   B          A  Business Application   \n3                10014                   B          A                   NaN   \n4                10015                   B          A  Business Application   \n...                ...                 ...        ...                   ...   \n6001             32756                   B          B  Business Application   \n6002             32757                   B          A                   NaN   \n6003             32758                   B          A  Business Application   \n6004             32766                   A        NaN  Business Application   \n6005             32767                   B          B  Business Application   \n\n     Development Type Development Platform Language Type  \\\n0     New Development                   MR           4GL   \n1     New Development                Multi           4GL   \n2         Enhancement                  NaN           3GL   \n3         Enhancement                  NaN           NaN   \n4         Enhancement                   MF           3GL   \n...               ...                  ...           ...   \n6001      Enhancement                   MF           3GL   \n6002  New Development                  NaN           NaN   \n6003      Enhancement                   MF           3GL   \n6004  New Development                   PC           3GL   \n6005      Enhancement                Multi           3GL   \n\n     Primary Programming Language Count Approach  Functional Size  ...  \\\n0                          Oracle          NESMA            237.0  ...   \n1                          Access       IFPUG 4+            443.0  ...   \n2                           COBOL       IFPUG 4+             76.0  ...   \n3                             NaN       IFPUG 4+              3.0  ...   \n4                           COBOL       IFPUG 4+            382.0  ...   \n...                           ...            ...              ...  ...   \n6001                        COBOL       IFPUG 4+             23.0  ...   \n6002                          NaN       IFPUG 4+            291.0  ...   \n6003                        COBOL       IFPUG 4+            119.0  ...   \n6004                            C         COSMIC             45.0  ...   \n6005                         Java       IFPUG 4+             95.0  ...   \n\n      Used Methodology  Resource Level  Max Team Size Average Team Size  \\\n0                   No             1.0              5                 5   \n1           Don't Know             1.0            NaN               NaN   \n2                  Yes             1.0            NaN               NaN   \n3                  NaN             1.0            NaN               NaN   \n4                  Yes             4.0            NaN               NaN   \n...                ...             ...            ...               ...   \n6001               Yes             1.0            NaN               NaN   \n6002        Don't Know             1.0              3               1,7   \n6003               Yes             4.0            NaN               NaN   \n6004               Yes             4.0              3               1,8   \n6005               Yes             3.0            NaN               NaN   \n\n     Input count Output count  Enquiry count File count Interface count  \\\n0             60          110           10.0         42            15.0   \n1            NaN          NaN            NaN        NaN             NaN   \n2            NaN          NaN            NaN        NaN             NaN   \n3            NaN          NaN            NaN        NaN             NaN   \n4            186            7          172.0          7            10.0   \n...          ...          ...            ...        ...             ...   \n6001         NaN          NaN            NaN        NaN             NaN   \n6002         NaN          NaN            NaN        NaN             NaN   \n6003          18           46           18.0          7            30.0   \n6004         NaN          NaN            NaN        NaN             NaN   \n6005         NaN          NaN            NaN        NaN             NaN   \n\n     Agile Method Used  \n0                  NaN  \n1                  NaN  \n2                  NaN  \n3                  NaN  \n4                  NaN  \n...                ...  \n6001               NaN  \n6002               NaN  \n6003               NaN  \n6004               NaN  \n6005               NaN  \n\n[6006 rows x 25 columns]"
     },
     "execution_count": 2,
     "metadata": {},
     "output_type": "execute_result"
    }
   ],
   "source": [
    "import pandas as pd\n",
    "#archivo = '..\\data\\ISBSG - Release May 2017 R1.csv'\n",
    "archivo = '..\\data\\ISBSG DATA Release 12.csv'\n",
    "df = pd.read_csv(archivo, sep = ';', low_memory = False)\n",
    "variables = ['ISBSG Project ID', 'Data Quality Rating', 'UFP rating', 'Application Group', 'Development Type', 'Development Platform', 'Language Type', 'Primary Programming Language', 'Count Approach', 'Functional Size', 'Adjusted Function Points', 'Normalised Work Effort Level 1', 'Summary Work Effort', 'Project Elapsed Time', 'Business Area Type', 'Used Methodology', 'Resource Level', 'Max Team Size', 'Average Team Size', 'Input count', 'Output count', 'Enquiry count', 'File count', 'Interface count', 'Agile Method Used']\n",
    "df = df.loc[:, variables]\n",
    "df"
   ]
  },
  {
   "cell_type": "code",
   "execution_count": 3,
   "metadata": {},
   "outputs": [
    {
     "name": "stdout",
     "output_type": "stream",
     "text": "1884\n"
    },
    {
     "data": {
      "text/html": "<div>\n<style scoped>\n    .dataframe tbody tr th:only-of-type {\n        vertical-align: middle;\n    }\n\n    .dataframe tbody tr th {\n        vertical-align: top;\n    }\n\n    .dataframe thead th {\n        text-align: right;\n    }\n</style>\n<table border=\"1\" class=\"dataframe\">\n  <thead>\n    <tr style=\"text-align: right;\">\n      <th></th>\n      <th>ISBSG Project ID</th>\n      <th>Application Group</th>\n      <th>Development Type</th>\n      <th>Development Platform</th>\n      <th>Language Type</th>\n      <th>Primary Programming Language</th>\n      <th>Functional Size</th>\n      <th>Adjusted Function Points</th>\n      <th>Normalised Work Effort Level 1</th>\n      <th>Project Elapsed Time</th>\n      <th>Used Methodology</th>\n      <th>Resource Level</th>\n    </tr>\n  </thead>\n  <tbody>\n    <tr>\n      <td>5</td>\n      <td>10026</td>\n      <td>Business Application</td>\n      <td>New Development</td>\n      <td>MF</td>\n      <td>3GL</td>\n      <td>Java</td>\n      <td>620.0</td>\n      <td>620.0</td>\n      <td>18160.0</td>\n      <td>7</td>\n      <td>Don't Know</td>\n      <td>1.0</td>\n    </tr>\n    <tr>\n      <td>33</td>\n      <td>10143</td>\n      <td>Business Application</td>\n      <td>New Development</td>\n      <td>MF</td>\n      <td>3GL</td>\n      <td>COBOL</td>\n      <td>243.0</td>\n      <td>250.0</td>\n      <td>2924.0</td>\n      <td>8</td>\n      <td>Yes</td>\n      <td>1.0</td>\n    </tr>\n    <tr>\n      <td>42</td>\n      <td>10173</td>\n      <td>Business Application</td>\n      <td>Enhancement</td>\n      <td>Multi</td>\n      <td>3GL</td>\n      <td>Java</td>\n      <td>25.0</td>\n      <td>25.0</td>\n      <td>118.0</td>\n      <td>1</td>\n      <td>Yes</td>\n      <td>1.0</td>\n    </tr>\n    <tr>\n      <td>50</td>\n      <td>10200</td>\n      <td>Business Application</td>\n      <td>Enhancement</td>\n      <td>Multi</td>\n      <td>3GL</td>\n      <td>Java</td>\n      <td>90.0</td>\n      <td>90.0</td>\n      <td>1112.0</td>\n      <td>4</td>\n      <td>Yes</td>\n      <td>1.0</td>\n    </tr>\n    <tr>\n      <td>54</td>\n      <td>10218</td>\n      <td>Business Application</td>\n      <td>New Development</td>\n      <td>MF</td>\n      <td>3GL</td>\n      <td>PL/I</td>\n      <td>163.0</td>\n      <td>152.0</td>\n      <td>668.0</td>\n      <td>9</td>\n      <td>Yes</td>\n      <td>1.0</td>\n    </tr>\n    <tr>\n      <td>...</td>\n      <td>...</td>\n      <td>...</td>\n      <td>...</td>\n      <td>...</td>\n      <td>...</td>\n      <td>...</td>\n      <td>...</td>\n      <td>...</td>\n      <td>...</td>\n      <td>...</td>\n      <td>...</td>\n      <td>...</td>\n    </tr>\n    <tr>\n      <td>5991</td>\n      <td>32708</td>\n      <td>Business Application</td>\n      <td>Enhancement</td>\n      <td>MR</td>\n      <td>3GL</td>\n      <td>COBOL</td>\n      <td>242.0</td>\n      <td>213.0</td>\n      <td>2185.0</td>\n      <td>7</td>\n      <td>No</td>\n      <td>1.0</td>\n    </tr>\n    <tr>\n      <td>5992</td>\n      <td>32710</td>\n      <td>Business Application</td>\n      <td>New Development</td>\n      <td>Multi</td>\n      <td>3GL</td>\n      <td>Java</td>\n      <td>133.0</td>\n      <td>133.0</td>\n      <td>1769.0</td>\n      <td>6</td>\n      <td>Yes</td>\n      <td>1.0</td>\n    </tr>\n    <tr>\n      <td>5995</td>\n      <td>32721</td>\n      <td>Business Application</td>\n      <td>Enhancement</td>\n      <td>MF</td>\n      <td>3GL</td>\n      <td>PL/I</td>\n      <td>96.0</td>\n      <td>96.0</td>\n      <td>1011.0</td>\n      <td>6</td>\n      <td>Yes</td>\n      <td>1.0</td>\n    </tr>\n    <tr>\n      <td>5998</td>\n      <td>32731</td>\n      <td>Business Application</td>\n      <td>New Development</td>\n      <td>Multi</td>\n      <td>4GL</td>\n      <td>Datastage</td>\n      <td>1048.0</td>\n      <td>1048.0</td>\n      <td>7722.0</td>\n      <td>16</td>\n      <td>Yes</td>\n      <td>1.0</td>\n    </tr>\n    <tr>\n      <td>6001</td>\n      <td>32756</td>\n      <td>Business Application</td>\n      <td>Enhancement</td>\n      <td>MF</td>\n      <td>3GL</td>\n      <td>COBOL</td>\n      <td>23.0</td>\n      <td>23.0</td>\n      <td>224.0</td>\n      <td>12,5</td>\n      <td>Yes</td>\n      <td>1.0</td>\n    </tr>\n  </tbody>\n</table>\n<p>857 rows × 12 columns</p>\n</div>",
      "text/plain": "      ISBSG Project ID     Application Group Development Type  \\\n5                10026  Business Application  New Development   \n33               10143  Business Application  New Development   \n42               10173  Business Application      Enhancement   \n50               10200  Business Application      Enhancement   \n54               10218  Business Application  New Development   \n...                ...                   ...              ...   \n5991             32708  Business Application      Enhancement   \n5992             32710  Business Application  New Development   \n5995             32721  Business Application      Enhancement   \n5998             32731  Business Application  New Development   \n6001             32756  Business Application      Enhancement   \n\n     Development Platform Language Type Primary Programming Language  \\\n5                      MF           3GL                         Java   \n33                     MF           3GL                        COBOL   \n42                  Multi           3GL                         Java   \n50                  Multi           3GL                         Java   \n54                     MF           3GL                         PL/I   \n...                   ...           ...                          ...   \n5991                   MR           3GL                        COBOL   \n5992                Multi           3GL                         Java   \n5995                   MF           3GL                         PL/I   \n5998                Multi           4GL                    Datastage   \n6001                   MF           3GL                        COBOL   \n\n      Functional Size  Adjusted Function Points  \\\n5               620.0                     620.0   \n33              243.0                     250.0   \n42               25.0                      25.0   \n50               90.0                      90.0   \n54              163.0                     152.0   \n...               ...                       ...   \n5991            242.0                     213.0   \n5992            133.0                     133.0   \n5995             96.0                      96.0   \n5998           1048.0                    1048.0   \n6001             23.0                      23.0   \n\n      Normalised Work Effort Level 1 Project Elapsed Time Used Methodology  \\\n5                            18160.0                    7       Don't Know   \n33                            2924.0                    8              Yes   \n42                             118.0                    1              Yes   \n50                            1112.0                    4              Yes   \n54                             668.0                    9              Yes   \n...                              ...                  ...              ...   \n5991                          2185.0                    7               No   \n5992                          1769.0                    6              Yes   \n5995                          1011.0                    6              Yes   \n5998                          7722.0                   16              Yes   \n6001                           224.0                 12,5              Yes   \n\n      Resource Level  \n5                1.0  \n33               1.0  \n42               1.0  \n50               1.0  \n54               1.0  \n...              ...  \n5991             1.0  \n5992             1.0  \n5995             1.0  \n5998             1.0  \n6001             1.0  \n\n[857 rows x 12 columns]"
     },
     "execution_count": 3,
     "metadata": {},
     "output_type": "execute_result"
    }
   ],
   "source": [
    "filtro = ((df['Data Quality Rating'] == 'A') | (df['Data Quality Rating'] == 'B')) & ((df['UFP rating'] == 'A') | (df['UFP rating'] == 'B')) \n",
    "df = df.loc[filtro, :]\n",
    "filtro = (df['Normalised Work Effort Level 1'].notnull()) & (df['Normalised Work Effort Level 1'] == df['Summary Work Effort'])\n",
    "df = df.loc[filtro, :]\n",
    "filtro = df['Count Approach'] == 'IFPUG 4+'\n",
    "df = df.loc[filtro, :]\n",
    "variables = ['ISBSG Project ID', 'Application Group', 'Development Type', 'Development Platform', 'Language Type', 'Primary Programming Language', 'Functional Size', 'Adjusted Function Points', 'Normalised Work Effort Level 1', 'Project Elapsed Time', 'Business Area Type', 'Used Methodology', 'Resource Level', 'Max Team Size', 'Average Team Size', 'Input count', 'Output count', 'Enquiry count', 'File count', 'Interface count', 'Agile Method Used']\n",
    "df = df.loc[:, variables]\n",
    "df = df.dropna(axis=1, thresh=int(0.4*len(df)))\n",
    "print(len(df))\n",
    "df = df.dropna()\n",
    "df"
   ]
  },
  {
   "cell_type": "markdown",
   "execution_count": null,
   "metadata": {},
   "outputs": [],
   "source": [
    "Tras hacer el filtrado de las variables que nos interesa nos quedan 860 proyectos válidos."
   ]
  },
  {
   "cell_type": "markdown",
   "execution_count": null,
   "metadata": {},
   "outputs": [],
   "source": [
    "Si aplicamos los filtros anteriores, sin desechar variables, y además seleccionamos aquellos que han utilizado metodología agil nos quedan solamente 21 proyectos."
   ]
  },
  {
   "cell_type": "code",
   "execution_count": null,
   "metadata": {},
   "outputs": [],
   "source": [
    "filtro = ((df['Data Quality Rating'] == 'A') | (df['Data Quality Rating'] == 'B')) & ((df['UFP rating'] == 'A') | (df['UFP rating'] == 'B')) \n",
    "df = df.loc[filtro, :]\n",
    "filtro = (df['Normalised Work Effort Level 1'].notnull()) & (df['Normalised Work Effort Level 1'] == df['Summary Work Effort'])\n",
    "df = df.loc[filtro, :]\n",
    "filtro = df['Count Approach'] == 'IFPUG 4+'\n",
    "df = df.loc[filtro, :]\n",
    "variables = ['ISBSG Project ID', 'Application Group', 'Development Type', 'Development Platform', 'Language Type', 'Primary Programming Language', 'Functional Size', 'Adjusted Function Points', 'Normalised Work Effort Level 1', 'Project Elapsed Time', 'Business Area Type', 'Used Methodology', 'Resource Level', 'Max Team Size', 'Average Team Size', 'Input count', 'Output count', 'Enquiry count', 'File count', 'Interface count', 'Agile Method Used']\n",
    "df = df.loc[:, variables]\n",
    "filtro = df['Agile Method Used'] == 'Yes'\n",
    "df = df.loc[filtro, :]\n",
    "df"
   ]
  }
 ]
}