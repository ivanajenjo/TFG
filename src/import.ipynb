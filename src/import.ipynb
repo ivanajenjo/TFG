{
 "nbformat": 4,
 "nbformat_minor": 2,
 "metadata": {
  "language_info": {
   "name": "python",
   "codemirror_mode": {
    "name": "ipython",
    "version": 3
   },
   "version": "3.7.4-final"
  },
  "orig_nbformat": 2,
  "file_extension": ".py",
  "mimetype": "text/x-python",
  "name": "python",
  "npconvert_exporter": "python",
  "pygments_lexer": "ipython3",
  "version": 3,
  "kernelspec": {
   "name": "python37464bitprogramdatavirtualenvee9d63b05d5c484496b6097fa197c876",
   "display_name": "Python 3.7.4 64-bit ('ProgramData': virtualenv)"
  }
 },
 "cells": [
  {
   "cell_type": "markdown",
   "metadata": {},
   "source": [
    "Importamos la BD, despues de la importacion tenemos 812 filas y 252 columnas"
   ]
  },
  {
   "cell_type": "code",
   "execution_count": 5,
   "metadata": {},
   "outputs": [
    {
     "data": {
      "text/html": "<div>\n<style scoped>\n    .dataframe tbody tr th:only-of-type {\n        vertical-align: middle;\n    }\n\n    .dataframe tbody tr th {\n        vertical-align: top;\n    }\n\n    .dataframe thead th {\n        text-align: right;\n    }\n</style>\n<table border=\"1\" class=\"dataframe\">\n  <thead>\n    <tr style=\"text-align: right;\">\n      <th></th>\n      <th>ISBSG Project ID</th>\n      <th>Data Quality Rating</th>\n      <th>UFP rating</th>\n    </tr>\n  </thead>\n  <tbody>\n    <tr>\n      <td>0</td>\n      <td>10001</td>\n      <td>D</td>\n      <td>A</td>\n    </tr>\n    <tr>\n      <td>1</td>\n      <td>10003</td>\n      <td>B</td>\n      <td>B</td>\n    </tr>\n    <tr>\n      <td>2</td>\n      <td>10011</td>\n      <td>B</td>\n      <td>A</td>\n    </tr>\n    <tr>\n      <td>3</td>\n      <td>10012</td>\n      <td>B</td>\n      <td>A</td>\n    </tr>\n    <tr>\n      <td>4</td>\n      <td>10014</td>\n      <td>B</td>\n      <td>A</td>\n    </tr>\n    <tr>\n      <td>...</td>\n      <td>...</td>\n      <td>...</td>\n      <td>...</td>\n    </tr>\n    <tr>\n      <td>8007</td>\n      <td>34870</td>\n      <td>B</td>\n      <td>B</td>\n    </tr>\n    <tr>\n      <td>8008</td>\n      <td>34901</td>\n      <td>B</td>\n      <td>B</td>\n    </tr>\n    <tr>\n      <td>8009</td>\n      <td>34902</td>\n      <td>B</td>\n      <td>B</td>\n    </tr>\n    <tr>\n      <td>8010</td>\n      <td>34990</td>\n      <td>B</td>\n      <td>B</td>\n    </tr>\n    <tr>\n      <td>8011</td>\n      <td>34997</td>\n      <td>B</td>\n      <td>B</td>\n    </tr>\n  </tbody>\n</table>\n<p>8012 rows × 3 columns</p>\n</div>",
      "text/plain": "      ISBSG Project ID Data Quality Rating UFP rating\n0                10001                   D          A\n1                10003                   B          B\n2                10011                   B          A\n3                10012                   B          A\n4                10014                   B          A\n...                ...                 ...        ...\n8007             34870                   B          B\n8008             34901                   B          B\n8009             34902                   B          B\n8010             34990                   B          B\n8011             34997                   B          B\n\n[8012 rows x 3 columns]"
     },
     "execution_count": 5,
     "metadata": {},
     "output_type": "execute_result"
    }
   ],
   "source": [
    "import pandas as pd\n",
    "df = pd.read_csv('ISBSG - Release May 2017 R1.csv', sep = ';')\n",
    "variables = ['ISBSG Project ID', 'Data Quality Rating', 'UFP rating']\n",
    "df.loc[:, variables]\n"
   ]
  },
  {
   "cell_type": "code",
   "execution_count": null,
   "metadata": {},
   "outputs": [],
   "source": []
  }
 ]
}