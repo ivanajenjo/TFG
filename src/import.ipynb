{
 "nbformat": 4,
 "nbformat_minor": 2,
 "metadata": {
  "language_info": {
   "name": "python",
   "codemirror_mode": {
    "name": "ipython",
    "version": 3
   },
   "version": "3.7.4-final"
  },
  "orig_nbformat": 2,
  "file_extension": ".py",
  "mimetype": "text/x-python",
  "name": "python",
  "npconvert_exporter": "python",
  "pygments_lexer": "ipython3",
  "version": 3,
  "kernelspec": {
   "name": "python37464bitbasecondafa1fc2f699fb42b3ba8f77d929f35fd4",
   "display_name": "Python 3.7.4 64-bit ('base': conda)"
  }
 },
 "cells": [
  {
   "cell_type": "markdown",
   "execution_count": null,
   "metadata": {},
   "outputs": [],
   "source": [
    "Importamos la BD, despues de la importacion tenemos 8012 filas y 25 columnas"
   ]
  },
  {
   "cell_type": "code",
   "execution_count": null,
   "metadata": {},
   "outputs": [],
   "source": [
    "import pandas as pd\n",
    "archivo = '..\\data\\ISBSG - Release May 2017 R1.csv'\n",
    "#archivo = '..\\data\\ISBSG DATA Release 12.csv'\n",
    "df = pd.read_csv(archivo, sep = ';', low_memory = False)\n",
    "variables = ['Data Quality Rating', 'UFP rating', 'Industry Sector','Application Group', 'Development Type', 'Development Platform', 'Language Type', 'Primary Programming Language', 'Count Approach', 'Functional Size', 'Adjusted Function Points', 'Normalised Work Effort Level 1', 'Summary Work Effort', 'Project Elapsed Time', 'Business Area Type', '1st Data Base System', 'Used Methodology', 'Resource Level', 'Max Team Size', 'Average Team Size', 'Input count', 'Output count', 'Enquiry count', 'File count', 'Interface count', 'Agile Method Used']\n",
    "df = df.loc[:, variables]\n",
    "df"
   ]
  },
  {
   "cell_type": "markdown",
   "execution_count": null,
   "metadata": {},
   "outputs": [],
   "source": [
    "Para aplicar el filtro del proyecto en R:\n",
    "En este caso el umbral de las variables está al 50%"
   ]
  },
  {
   "cell_type": "code",
   "execution_count": null,
   "metadata": {},
   "outputs": [],
   "source": [
    "filtro = ((df['Data Quality Rating'] == 'A') | (df['Data Quality Rating'] == 'B')) & ((df['UFP rating'] == 'A') | (df['UFP rating'] == 'B')) \n",
    "df = df.loc[filtro, :]\n",
    "filtro = (df['Normalised Work Effort Level 1'].notnull()) & (df['Normalised Work Effort Level 1'] == df['Summary Work Effort'])\n",
    "df = df.loc[filtro, :]\n",
    "filtro = df['Count Approach'] == 'IFPUG 4+'\n",
    "df = df.loc[filtro, :]\n",
    "variables = ['Industry Sector','Application Group', 'Development Type', 'Development Platform', 'Language Type', 'Primary Programming Language', 'Functional Size', 'Adjusted Function Points', 'Normalised Work Effort Level 1', 'Project Elapsed Time', 'Business Area Type', '1st Data Base System', 'Used Methodology', 'Max Team Size', 'Average Team Size', 'Input count', 'Output count', 'Enquiry count', 'File count', 'Interface count', 'Agile Method Used']\n",
    "df = df.loc[:, variables]\n",
    "df = df.dropna(axis=1, thresh=int(0.5*len(df)))\n",
    "print(len(df))\n",
    "df = df.dropna()\n",
    "df"
   ]
  },
  {
   "cell_type": "markdown",
   "execution_count": null,
   "metadata": {},
   "outputs": [],
   "source": [
    "Tras hacer el filtrado de las variables que nos interesa nos quedan 624 proyectos válidos."
   ]
  },
  {
   "cell_type": "markdown",
   "execution_count": null,
   "metadata": {},
   "outputs": [],
   "source": [
    "Si aplicamos los filtros anteriores, sin desechar variables, y además seleccionamos aquellos que han utilizado metodología agil nos quedan solamente 21 proyectos."
   ]
  },
  {
   "cell_type": "code",
   "execution_count": null,
   "metadata": {},
   "outputs": [],
   "source": [
    "filtro = ((df['Data Quality Rating'] == 'A') | (df['Data Quality Rating'] == 'B')) & ((df['UFP rating'] == 'A') | (df['UFP rating'] == 'B')) \n",
    "df = df.loc[filtro, :]\n",
    "filtro = (df['Normalised Work Effort Level 1'].notnull()) & (df['Normalised Work Effort Level 1'] == df['Summary Work Effort'])\n",
    "df = df.loc[filtro, :]\n",
    "filtro = df['Count Approach'] == 'IFPUG 4+'\n",
    "df = df.loc[filtro, :]\n",
    "variables = ['Industry Sector','Application Group', 'Development Type', 'Development Platform', 'Language Type', 'Primary Programming Language', 'Functional Size', 'Adjusted Function Points', 'Normalised Work Effort Level 1', 'Project Elapsed Time', 'Business Area Type', '1st Data Base System', 'Used Methodology', 'Max Team Size', 'Average Team Size', 'Input count', 'Output count', 'Enquiry count', 'File count', 'Interface count', 'Agile Method Used']\n",
    "df = df.loc[:, variables]\n",
    "filtro = df['Agile Method Used'] == 'Yes'\n",
    "df = df.loc[filtro, :]\n",
    "df"
   ]
  },
  {
   "cell_type": "code",
   "execution_count": 1,
   "metadata": {},
   "outputs": [
    {
     "data": {
      "text/html": "<div>\n<style scoped>\n    .dataframe tbody tr th:only-of-type {\n        vertical-align: middle;\n    }\n\n    .dataframe tbody tr th {\n        vertical-align: top;\n    }\n\n    .dataframe thead th {\n        text-align: right;\n    }\n</style>\n<table border=\"1\" class=\"dataframe\">\n  <thead>\n    <tr style=\"text-align: right;\">\n      <th></th>\n      <th>Industry Sector</th>\n      <th>Application Group</th>\n      <th>Development Type</th>\n      <th>Development Platform</th>\n      <th>Language Type</th>\n      <th>Primary Programming Language</th>\n      <th>Functional Size</th>\n      <th>Adjusted Function Points</th>\n      <th>Normalised Work Effort Level 1</th>\n      <th>Project Elapsed Time</th>\n      <th>1st Data Base System</th>\n      <th>Used Methodology</th>\n      <th>Agile Method Used</th>\n    </tr>\n  </thead>\n  <tbody>\n    <tr>\n      <td>451</td>\n      <td>Service Industry</td>\n      <td>Business Application</td>\n      <td>Enhancement</td>\n      <td>Multi</td>\n      <td>3GL</td>\n      <td>JavaScript</td>\n      <td>89.0</td>\n      <td>89</td>\n      <td>4036.0</td>\n      <td>5,0</td>\n      <td>DB2;</td>\n      <td>Yes</td>\n      <td>Yes</td>\n    </tr>\n    <tr>\n      <td>1573</td>\n      <td>Service Industry</td>\n      <td>Business Application</td>\n      <td>Enhancement</td>\n      <td>Multi</td>\n      <td>3GL</td>\n      <td>C#</td>\n      <td>695.0</td>\n      <td>695</td>\n      <td>19606.0</td>\n      <td>19,0</td>\n      <td>DB2;</td>\n      <td>Yes</td>\n      <td>Yes</td>\n    </tr>\n    <tr>\n      <td>4331</td>\n      <td>Service Industry</td>\n      <td>Business Application</td>\n      <td>New Development</td>\n      <td>Multi</td>\n      <td>3GL</td>\n      <td>JavaScript</td>\n      <td>399.0</td>\n      <td>399</td>\n      <td>7037.0</td>\n      <td>8,0</td>\n      <td>DB2;</td>\n      <td>Yes</td>\n      <td>Yes</td>\n    </tr>\n    <tr>\n      <td>5671</td>\n      <td>Service Industry</td>\n      <td>Business Application</td>\n      <td>Enhancement</td>\n      <td>Multi</td>\n      <td>4GL</td>\n      <td>ABAP</td>\n      <td>211.0</td>\n      <td>211</td>\n      <td>4393.0</td>\n      <td>8,0</td>\n      <td>DB2;</td>\n      <td>Yes</td>\n      <td>Yes</td>\n    </tr>\n    <tr>\n      <td>7087</td>\n      <td>Service Industry</td>\n      <td>Business Application</td>\n      <td>Enhancement</td>\n      <td>Multi</td>\n      <td>3GL</td>\n      <td>PL/I</td>\n      <td>117.0</td>\n      <td>117</td>\n      <td>3549.0</td>\n      <td>7,0</td>\n      <td>DB2;</td>\n      <td>Yes</td>\n      <td>Yes</td>\n    </tr>\n  </tbody>\n</table>\n</div>",
      "text/plain": "       Industry Sector     Application Group Development Type  \\\n451   Service Industry  Business Application      Enhancement   \n1573  Service Industry  Business Application      Enhancement   \n4331  Service Industry  Business Application  New Development   \n5671  Service Industry  Business Application      Enhancement   \n7087  Service Industry  Business Application      Enhancement   \n\n     Development Platform Language Type Primary Programming Language  \\\n451                 Multi           3GL                   JavaScript   \n1573                Multi           3GL                           C#   \n4331                Multi           3GL                   JavaScript   \n5671                Multi           4GL                         ABAP   \n7087                Multi           3GL                         PL/I   \n\n      Functional Size Adjusted Function Points  \\\n451              89.0                       89   \n1573            695.0                      695   \n4331            399.0                      399   \n5671            211.0                      211   \n7087            117.0                      117   \n\n      Normalised Work Effort Level 1 Project Elapsed Time  \\\n451                           4036.0                  5,0   \n1573                         19606.0                 19,0   \n4331                          7037.0                  8,0   \n5671                          4393.0                  8,0   \n7087                          3549.0                  7,0   \n\n     1st Data Base System Used Methodology Agile Method Used  \n451                  DB2;              Yes               Yes  \n1573                 DB2;              Yes               Yes  \n4331                 DB2;              Yes               Yes  \n5671                 DB2;              Yes               Yes  \n7087                 DB2;              Yes               Yes  "
     },
     "execution_count": 1,
     "metadata": {},
     "output_type": "execute_result"
    }
   ],
   "source": [
    "import pandas as pd\n",
    "archivo = '..\\data\\ISBSG - Release May 2017 R1.csv'\n",
    "#archivo = '..\\data\\ISBSG DATA Release 12.csv'\n",
    "df = pd.read_csv(archivo, sep = ';', low_memory = False)\n",
    "variables = ['Data Quality Rating', 'UFP rating', 'Industry Sector','Application Group', 'Development Type', 'Development Platform', 'Language Type', 'Primary Programming Language', 'Count Approach', 'Functional Size', 'Adjusted Function Points', 'Normalised Work Effort Level 1', 'Summary Work Effort', 'Project Elapsed Time', 'Business Area Type', '1st Data Base System', 'Used Methodology', 'Resource Level', 'Max Team Size', 'Average Team Size', 'Input count', 'Output count', 'Enquiry count', 'File count', 'Interface count', 'Agile Method Used']\n",
    "df = df.loc[:, variables]\n",
    "filtro = ((df['Data Quality Rating'] == 'A') | (df['Data Quality Rating'] == 'B')) & ((df['UFP rating'] == 'A') | (df['UFP rating'] == 'B')) \n",
    "df = df.loc[filtro, :]\n",
    "filtro = (df['Normalised Work Effort Level 1'].notnull()) & (df['Normalised Work Effort Level 1'] == df['Summary Work Effort'])\n",
    "df = df.loc[filtro, :]\n",
    "filtro = df['Count Approach'] == 'IFPUG 4+'\n",
    "df = df.loc[filtro, :]\n",
    "variables = ['Industry Sector','Application Group', 'Development Type', 'Development Platform', 'Language Type', 'Primary Programming Language', 'Functional Size', 'Adjusted Function Points', 'Normalised Work Effort Level 1', 'Project Elapsed Time', '1st Data Base System', 'Used Methodology', 'Agile Method Used']\n",
    "df = df.loc[:, variables]\n",
    "df = df.dropna()\n",
    "df"
   ]
  },
  {
   "cell_type": "code",
   "execution_count": 6,
   "metadata": {},
   "outputs": [
    {
     "name": "stdout",
     "output_type": "stream",
     "text": "16\n"
    },
    {
     "data": {
      "text/html": "<div>\n<style scoped>\n    .dataframe tbody tr th:only-of-type {\n        vertical-align: middle;\n    }\n\n    .dataframe tbody tr th {\n        vertical-align: top;\n    }\n\n    .dataframe thead th {\n        text-align: right;\n    }\n</style>\n<table border=\"1\" class=\"dataframe\">\n  <thead>\n    <tr style=\"text-align: right;\">\n      <th></th>\n      <th>Data Quality Rating</th>\n      <th>UFP rating</th>\n      <th>Industry Sector</th>\n      <th>Application Group</th>\n      <th>Development Type</th>\n      <th>Development Platform</th>\n      <th>Language Type</th>\n      <th>Primary Programming Language</th>\n      <th>Count Approach</th>\n      <th>Functional Size</th>\n      <th>Adjusted Function Points</th>\n      <th>Normalised Work Effort Level 1</th>\n      <th>Summary Work Effort</th>\n      <th>Project Elapsed Time</th>\n      <th>Used Methodology</th>\n      <th>Resource Level</th>\n      <th>Agile Method Used</th>\n    </tr>\n  </thead>\n  <tbody>\n    <tr>\n      <td>451</td>\n      <td>A</td>\n      <td>A</td>\n      <td>Service Industry</td>\n      <td>Business Application</td>\n      <td>Enhancement</td>\n      <td>Multi</td>\n      <td>3GL</td>\n      <td>JavaScript</td>\n      <td>IFPUG 4+</td>\n      <td>89.0</td>\n      <td>89</td>\n      <td>4036.0</td>\n      <td>4036.0</td>\n      <td>5,0</td>\n      <td>Yes</td>\n      <td>1.0</td>\n      <td>Yes</td>\n    </tr>\n    <tr>\n      <td>1505</td>\n      <td>B</td>\n      <td>B</td>\n      <td>Banking</td>\n      <td>Business Application</td>\n      <td>New Development</td>\n      <td>Proprietary</td>\n      <td>5GL</td>\n      <td>Proprietary Agile Platform</td>\n      <td>IFPUG 4+</td>\n      <td>748.0</td>\n      <td>748</td>\n      <td>1518.0</td>\n      <td>1518.0</td>\n      <td>3,0</td>\n      <td>Yes</td>\n      <td>1.0</td>\n      <td>Yes</td>\n    </tr>\n    <tr>\n      <td>1507</td>\n      <td>B</td>\n      <td>A</td>\n      <td>Government</td>\n      <td>Business Application</td>\n      <td>New Development</td>\n      <td>MR</td>\n      <td>4GL</td>\n      <td>.Net</td>\n      <td>IFPUG 4+</td>\n      <td>498.0</td>\n      <td>498</td>\n      <td>19795.0</td>\n      <td>19795.0</td>\n      <td>18,0</td>\n      <td>No</td>\n      <td>1.0</td>\n      <td>Yes</td>\n    </tr>\n    <tr>\n      <td>1573</td>\n      <td>A</td>\n      <td>A</td>\n      <td>Service Industry</td>\n      <td>Business Application</td>\n      <td>Enhancement</td>\n      <td>Multi</td>\n      <td>3GL</td>\n      <td>C#</td>\n      <td>IFPUG 4+</td>\n      <td>695.0</td>\n      <td>695</td>\n      <td>19606.0</td>\n      <td>19606.0</td>\n      <td>19,0</td>\n      <td>Yes</td>\n      <td>1.0</td>\n      <td>Yes</td>\n    </tr>\n    <tr>\n      <td>1746</td>\n      <td>B</td>\n      <td>B</td>\n      <td>Service Industry</td>\n      <td>Business Application</td>\n      <td>New Development</td>\n      <td>Proprietary</td>\n      <td>5GL</td>\n      <td>Proprietary Agile Platform</td>\n      <td>IFPUG 4+</td>\n      <td>257.0</td>\n      <td>257</td>\n      <td>452.0</td>\n      <td>452.0</td>\n      <td>3,0</td>\n      <td>Yes</td>\n      <td>1.0</td>\n      <td>Yes</td>\n    </tr>\n    <tr>\n      <td>2510</td>\n      <td>B</td>\n      <td>B</td>\n      <td>Service Industry</td>\n      <td>Business Application</td>\n      <td>New Development</td>\n      <td>Proprietary</td>\n      <td>5GL</td>\n      <td>Proprietary Agile Platform</td>\n      <td>IFPUG 4+</td>\n      <td>168.0</td>\n      <td>168</td>\n      <td>312.0</td>\n      <td>312.0</td>\n      <td>3,0</td>\n      <td>Yes</td>\n      <td>1.0</td>\n      <td>Yes</td>\n    </tr>\n    <tr>\n      <td>2598</td>\n      <td>B</td>\n      <td>B</td>\n      <td>Medical &amp; Health Care</td>\n      <td>Business Application</td>\n      <td>New Development</td>\n      <td>Proprietary</td>\n      <td>5GL</td>\n      <td>Proprietary Agile Platform</td>\n      <td>IFPUG 4+</td>\n      <td>116.0</td>\n      <td>116</td>\n      <td>112.0</td>\n      <td>112.0</td>\n      <td>2,0</td>\n      <td>Yes</td>\n      <td>1.0</td>\n      <td>Yes</td>\n    </tr>\n    <tr>\n      <td>4331</td>\n      <td>A</td>\n      <td>A</td>\n      <td>Service Industry</td>\n      <td>Business Application</td>\n      <td>New Development</td>\n      <td>Multi</td>\n      <td>3GL</td>\n      <td>JavaScript</td>\n      <td>IFPUG 4+</td>\n      <td>399.0</td>\n      <td>399</td>\n      <td>7037.0</td>\n      <td>7037.0</td>\n      <td>8,0</td>\n      <td>Yes</td>\n      <td>1.0</td>\n      <td>Yes</td>\n    </tr>\n    <tr>\n      <td>4756</td>\n      <td>B</td>\n      <td>B</td>\n      <td>Wholesale &amp; Retail</td>\n      <td>Business Application</td>\n      <td>New Development</td>\n      <td>Proprietary</td>\n      <td>5GL</td>\n      <td>Proprietary Agile Platform</td>\n      <td>IFPUG 4+</td>\n      <td>243.0</td>\n      <td>243</td>\n      <td>257.0</td>\n      <td>257.0</td>\n      <td>2,0</td>\n      <td>Yes</td>\n      <td>1.0</td>\n      <td>Yes</td>\n    </tr>\n    <tr>\n      <td>5402</td>\n      <td>B</td>\n      <td>B</td>\n      <td>Service Industry</td>\n      <td>Business Application</td>\n      <td>New Development</td>\n      <td>Proprietary</td>\n      <td>5GL</td>\n      <td>Proprietary Agile Platform</td>\n      <td>IFPUG 4+</td>\n      <td>679.0</td>\n      <td>679</td>\n      <td>326.0</td>\n      <td>326.0</td>\n      <td>4,0</td>\n      <td>Yes</td>\n      <td>1.0</td>\n      <td>Yes</td>\n    </tr>\n    <tr>\n      <td>5614</td>\n      <td>B</td>\n      <td>B</td>\n      <td>Government</td>\n      <td>Business Application</td>\n      <td>New Development</td>\n      <td>Proprietary</td>\n      <td>5GL</td>\n      <td>Proprietary Agile Platform</td>\n      <td>IFPUG 4+</td>\n      <td>143.0</td>\n      <td>143</td>\n      <td>98.0</td>\n      <td>98.0</td>\n      <td>5,0</td>\n      <td>Yes</td>\n      <td>1.0</td>\n      <td>Yes</td>\n    </tr>\n    <tr>\n      <td>5671</td>\n      <td>A</td>\n      <td>A</td>\n      <td>Service Industry</td>\n      <td>Business Application</td>\n      <td>Enhancement</td>\n      <td>Multi</td>\n      <td>4GL</td>\n      <td>ABAP</td>\n      <td>IFPUG 4+</td>\n      <td>211.0</td>\n      <td>211</td>\n      <td>4393.0</td>\n      <td>4393.0</td>\n      <td>8,0</td>\n      <td>Yes</td>\n      <td>1.0</td>\n      <td>Yes</td>\n    </tr>\n    <tr>\n      <td>5935</td>\n      <td>B</td>\n      <td>B</td>\n      <td>Electronics &amp; Computers</td>\n      <td>Business Application</td>\n      <td>New Development</td>\n      <td>Proprietary</td>\n      <td>5GL</td>\n      <td>Proprietary Agile Platform</td>\n      <td>IFPUG 4+</td>\n      <td>138.0</td>\n      <td>138</td>\n      <td>87.0</td>\n      <td>87.0</td>\n      <td>1,0</td>\n      <td>Yes</td>\n      <td>1.0</td>\n      <td>Yes</td>\n    </tr>\n    <tr>\n      <td>7087</td>\n      <td>A</td>\n      <td>A</td>\n      <td>Service Industry</td>\n      <td>Business Application</td>\n      <td>Enhancement</td>\n      <td>Multi</td>\n      <td>3GL</td>\n      <td>PL/I</td>\n      <td>IFPUG 4+</td>\n      <td>117.0</td>\n      <td>117</td>\n      <td>3549.0</td>\n      <td>3549.0</td>\n      <td>7,0</td>\n      <td>Yes</td>\n      <td>1.0</td>\n      <td>Yes</td>\n    </tr>\n    <tr>\n      <td>7791</td>\n      <td>B</td>\n      <td>B</td>\n      <td>Utilities</td>\n      <td>Business Application</td>\n      <td>New Development</td>\n      <td>Proprietary</td>\n      <td>5GL</td>\n      <td>Proprietary Agile Platform</td>\n      <td>IFPUG 4+</td>\n      <td>1371.0</td>\n      <td>1371</td>\n      <td>2274.0</td>\n      <td>2274.0</td>\n      <td>4,0</td>\n      <td>Yes</td>\n      <td>1.0</td>\n      <td>Yes</td>\n    </tr>\n    <tr>\n      <td>7921</td>\n      <td>B</td>\n      <td>B</td>\n      <td>Education</td>\n      <td>Business Application</td>\n      <td>New Development</td>\n      <td>Proprietary</td>\n      <td>5GL</td>\n      <td>Proprietary Agile Platform</td>\n      <td>IFPUG 4+</td>\n      <td>995.0</td>\n      <td>995</td>\n      <td>614.0</td>\n      <td>614.0</td>\n      <td>5,0</td>\n      <td>Yes</td>\n      <td>1.0</td>\n      <td>Yes</td>\n    </tr>\n  </tbody>\n</table>\n</div>",
      "text/plain": "     Data Quality Rating UFP rating          Industry Sector  \\\n451                    A          A         Service Industry   \n1505                   B          B                  Banking   \n1507                   B          A               Government   \n1573                   A          A         Service Industry   \n1746                   B          B         Service Industry   \n2510                   B          B         Service Industry   \n2598                   B          B    Medical & Health Care   \n4331                   A          A         Service Industry   \n4756                   B          B       Wholesale & Retail   \n5402                   B          B         Service Industry   \n5614                   B          B               Government   \n5671                   A          A         Service Industry   \n5935                   B          B  Electronics & Computers   \n7087                   A          A         Service Industry   \n7791                   B          B                Utilities   \n7921                   B          B                Education   \n\n         Application Group Development Type Development Platform  \\\n451   Business Application      Enhancement                Multi   \n1505  Business Application  New Development          Proprietary   \n1507  Business Application  New Development                   MR   \n1573  Business Application      Enhancement                Multi   \n1746  Business Application  New Development          Proprietary   \n2510  Business Application  New Development          Proprietary   \n2598  Business Application  New Development          Proprietary   \n4331  Business Application  New Development                Multi   \n4756  Business Application  New Development          Proprietary   \n5402  Business Application  New Development          Proprietary   \n5614  Business Application  New Development          Proprietary   \n5671  Business Application      Enhancement                Multi   \n5935  Business Application  New Development          Proprietary   \n7087  Business Application      Enhancement                Multi   \n7791  Business Application  New Development          Proprietary   \n7921  Business Application  New Development          Proprietary   \n\n     Language Type Primary Programming Language Count Approach  \\\n451            3GL                   JavaScript       IFPUG 4+   \n1505           5GL   Proprietary Agile Platform       IFPUG 4+   \n1507           4GL                         .Net       IFPUG 4+   \n1573           3GL                           C#       IFPUG 4+   \n1746           5GL   Proprietary Agile Platform       IFPUG 4+   \n2510           5GL   Proprietary Agile Platform       IFPUG 4+   \n2598           5GL   Proprietary Agile Platform       IFPUG 4+   \n4331           3GL                   JavaScript       IFPUG 4+   \n4756           5GL   Proprietary Agile Platform       IFPUG 4+   \n5402           5GL   Proprietary Agile Platform       IFPUG 4+   \n5614           5GL   Proprietary Agile Platform       IFPUG 4+   \n5671           4GL                         ABAP       IFPUG 4+   \n5935           5GL   Proprietary Agile Platform       IFPUG 4+   \n7087           3GL                         PL/I       IFPUG 4+   \n7791           5GL   Proprietary Agile Platform       IFPUG 4+   \n7921           5GL   Proprietary Agile Platform       IFPUG 4+   \n\n      Functional Size Adjusted Function Points  \\\n451              89.0                       89   \n1505            748.0                      748   \n1507            498.0                      498   \n1573            695.0                      695   \n1746            257.0                      257   \n2510            168.0                      168   \n2598            116.0                      116   \n4331            399.0                      399   \n4756            243.0                      243   \n5402            679.0                      679   \n5614            143.0                      143   \n5671            211.0                      211   \n5935            138.0                      138   \n7087            117.0                      117   \n7791           1371.0                     1371   \n7921            995.0                      995   \n\n      Normalised Work Effort Level 1  Summary Work Effort  \\\n451                           4036.0               4036.0   \n1505                          1518.0               1518.0   \n1507                         19795.0              19795.0   \n1573                         19606.0              19606.0   \n1746                           452.0                452.0   \n2510                           312.0                312.0   \n2598                           112.0                112.0   \n4331                          7037.0               7037.0   \n4756                           257.0                257.0   \n5402                           326.0                326.0   \n5614                            98.0                 98.0   \n5671                          4393.0               4393.0   \n5935                            87.0                 87.0   \n7087                          3549.0               3549.0   \n7791                          2274.0               2274.0   \n7921                           614.0                614.0   \n\n     Project Elapsed Time Used Methodology  Resource Level Agile Method Used  \n451                   5,0              Yes             1.0               Yes  \n1505                  3,0              Yes             1.0               Yes  \n1507                 18,0               No             1.0               Yes  \n1573                 19,0              Yes             1.0               Yes  \n1746                  3,0              Yes             1.0               Yes  \n2510                  3,0              Yes             1.0               Yes  \n2598                  2,0              Yes             1.0               Yes  \n4331                  8,0              Yes             1.0               Yes  \n4756                  2,0              Yes             1.0               Yes  \n5402                  4,0              Yes             1.0               Yes  \n5614                  5,0              Yes             1.0               Yes  \n5671                  8,0              Yes             1.0               Yes  \n5935                  1,0              Yes             1.0               Yes  \n7087                  7,0              Yes             1.0               Yes  \n7791                  4,0              Yes             1.0               Yes  \n7921                  5,0              Yes             1.0               Yes  "
     },
     "execution_count": 6,
     "metadata": {},
     "output_type": "execute_result"
    }
   ],
   "source": [
    "import pandas as pd\n",
    "archivo = '..\\data\\ISBSG - Release May 2017 R1.csv'\n",
    "#archivo = '..\\data\\ISBSG DATA Release 12.csv'\n",
    "df = pd.read_csv(archivo, sep = ';', low_memory = False)\n",
    "variables = ['Data Quality Rating', 'UFP rating', 'Industry Sector','Application Group', 'Development Type', 'Development Platform', 'Language Type', 'Primary Programming Language', 'Count Approach', 'Functional Size', 'Adjusted Function Points', 'Normalised Work Effort Level 1', 'Summary Work Effort', 'Project Elapsed Time', 'Business Area Type', '1st Data Base System', 'Used Methodology', 'Resource Level', 'Max Team Size', 'Average Team Size', 'Input count', 'Output count', 'Enquiry count', 'File count', 'Interface count', 'Agile Method Used']\n",
    "df = df.loc[:, variables]\n",
    "filtro = df['Agile Method Used'] == 'Yes'\n",
    "df = df.loc[filtro, :]\n",
    "filtro = ((df['Data Quality Rating'] == 'A') | (df['Data Quality Rating'] == 'B')) & ((df['UFP rating'] == 'A') | (df['UFP rating'] == 'B')) \n",
    "df = df.loc[filtro, :]\n",
    "filtro = (df['Normalised Work Effort Level 1'].notnull()) & (df['Normalised Work Effort Level 1'] == df['Summary Work Effort'])\n",
    "df = df.loc[filtro, :]\n",
    "filtro = df['Count Approach'] == 'IFPUG 4+'\n",
    "df = df.loc[filtro, :]\n",
    "df = df.dropna(axis=1, thresh=int(0.5*len(df)))\n",
    "df = df.dropna()\n",
    "print(len(df))\n",
    "df"
   ]
  },
  {
   "cell_type": "code",
   "execution_count": null,
   "metadata": {},
   "outputs": [],
   "source": []
  }
 ]
}