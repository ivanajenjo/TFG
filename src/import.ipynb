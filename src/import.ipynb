{
 "nbformat": 4,
 "nbformat_minor": 2,
 "metadata": {
  "language_info": {
   "name": "python",
   "codemirror_mode": {
    "name": "ipython",
    "version": 3
   },
   "version": "3.7.4-final"
  },
  "orig_nbformat": 2,
  "file_extension": ".py",
  "mimetype": "text/x-python",
  "name": "python",
  "npconvert_exporter": "python",
  "pygments_lexer": "ipython3",
  "version": 3,
  "kernelspec": {
   "name": "python37464bitprogramdatavirtualenvee9d63b05d5c484496b6097fa197c876",
   "display_name": "Python 3.7.4 64-bit ('ProgramData': virtualenv)"
  }
 },
 "cells": [
  {
   "cell_type": "markdown",
   "metadata": {},
   "source": [
    "Importamos la BD, despues de la importacion tenemos 812 filas y 252 columnas"
   ]
  },
  {
   "cell_type": "code",
   "execution_count": 11,
   "metadata": {},
   "outputs": [
    {
     "name": "stdout",
     "output_type": "stream",
     "text": "24\n"
    },
    {
     "data": {
      "text/html": "<div>\n<style scoped>\n    .dataframe tbody tr th:only-of-type {\n        vertical-align: middle;\n    }\n\n    .dataframe tbody tr th {\n        vertical-align: top;\n    }\n\n    .dataframe thead th {\n        text-align: right;\n    }\n</style>\n<table border=\"1\" class=\"dataframe\">\n  <thead>\n    <tr style=\"text-align: right;\">\n      <th></th>\n      <th>ISBSG Project ID</th>\n      <th>Data Quality Rating</th>\n      <th>UFP rating</th>\n      <th>Application Group</th>\n      <th>Development Type</th>\n      <th>Development Platform</th>\n      <th>Language Type</th>\n      <th>Primary Programming Language</th>\n      <th>Count Approach</th>\n      <th>Functional Size</th>\n      <th>...</th>\n      <th>Business Area Type</th>\n      <th>Used Methodology</th>\n      <th>Resource Level</th>\n      <th>Max Team Size</th>\n      <th>Average Team Size</th>\n      <th>Input count</th>\n      <th>Output count</th>\n      <th>Enquiry count</th>\n      <th>File count</th>\n      <th>Interface count</th>\n    </tr>\n  </thead>\n  <tbody>\n    <tr>\n      <td>0</td>\n      <td>10001</td>\n      <td>D</td>\n      <td>A</td>\n      <td>Business Application</td>\n      <td>New Development</td>\n      <td>MR</td>\n      <td>4GL</td>\n      <td>Oracle</td>\n      <td>NESMA</td>\n      <td>237.0</td>\n      <td>...</td>\n      <td>Sales;</td>\n      <td>No</td>\n      <td>1.0</td>\n      <td>5</td>\n      <td>5</td>\n      <td>60</td>\n      <td>110</td>\n      <td>10.0</td>\n      <td>42</td>\n      <td>15.0</td>\n    </tr>\n    <tr>\n      <td>1</td>\n      <td>10003</td>\n      <td>B</td>\n      <td>B</td>\n      <td>Business Application</td>\n      <td>Enhancement</td>\n      <td>Multi</td>\n      <td>NaN</td>\n      <td>NaN</td>\n      <td>IFPUG 4+</td>\n      <td>67.0</td>\n      <td>...</td>\n      <td>NaN</td>\n      <td>NaN</td>\n      <td>1.0</td>\n      <td>NaN</td>\n      <td>NaN</td>\n      <td>NaN</td>\n      <td>NaN</td>\n      <td>NaN</td>\n      <td>NaN</td>\n      <td>NaN</td>\n    </tr>\n    <tr>\n      <td>2</td>\n      <td>10011</td>\n      <td>B</td>\n      <td>A</td>\n      <td>Business Application</td>\n      <td>New Development</td>\n      <td>Multi</td>\n      <td>4GL</td>\n      <td>Access</td>\n      <td>IFPUG 4+</td>\n      <td>443.0</td>\n      <td>...</td>\n      <td>Don't Know;</td>\n      <td>Don't Know</td>\n      <td>1.0</td>\n      <td>NaN</td>\n      <td>NaN</td>\n      <td>NaN</td>\n      <td>NaN</td>\n      <td>NaN</td>\n      <td>NaN</td>\n      <td>NaN</td>\n    </tr>\n    <tr>\n      <td>3</td>\n      <td>10012</td>\n      <td>B</td>\n      <td>A</td>\n      <td>Business Application</td>\n      <td>Enhancement</td>\n      <td>NaN</td>\n      <td>3GL</td>\n      <td>COBOL</td>\n      <td>IFPUG 4+</td>\n      <td>76.0</td>\n      <td>...</td>\n      <td>NaN</td>\n      <td>Yes</td>\n      <td>1.0</td>\n      <td>NaN</td>\n      <td>NaN</td>\n      <td>NaN</td>\n      <td>NaN</td>\n      <td>NaN</td>\n      <td>NaN</td>\n      <td>NaN</td>\n    </tr>\n    <tr>\n      <td>4</td>\n      <td>10014</td>\n      <td>B</td>\n      <td>A</td>\n      <td>NaN</td>\n      <td>Enhancement</td>\n      <td>NaN</td>\n      <td>NaN</td>\n      <td>NaN</td>\n      <td>IFPUG 4+</td>\n      <td>3.0</td>\n      <td>...</td>\n      <td>NaN</td>\n      <td>NaN</td>\n      <td>1.0</td>\n      <td>NaN</td>\n      <td>NaN</td>\n      <td>NaN</td>\n      <td>NaN</td>\n      <td>NaN</td>\n      <td>NaN</td>\n      <td>NaN</td>\n    </tr>\n    <tr>\n      <td>...</td>\n      <td>...</td>\n      <td>...</td>\n      <td>...</td>\n      <td>...</td>\n      <td>...</td>\n      <td>...</td>\n      <td>...</td>\n      <td>...</td>\n      <td>...</td>\n      <td>...</td>\n      <td>...</td>\n      <td>...</td>\n      <td>...</td>\n      <td>...</td>\n      <td>...</td>\n      <td>...</td>\n      <td>...</td>\n      <td>...</td>\n      <td>...</td>\n      <td>...</td>\n      <td>...</td>\n    </tr>\n    <tr>\n      <td>8007</td>\n      <td>34870</td>\n      <td>B</td>\n      <td>B</td>\n      <td>Business Application</td>\n      <td>Enhancement</td>\n      <td>NaN</td>\n      <td>NaN</td>\n      <td>NaN</td>\n      <td>IFPUG 4+</td>\n      <td>161.0</td>\n      <td>...</td>\n      <td>NaN</td>\n      <td>Yes</td>\n      <td>1.0</td>\n      <td>NaN</td>\n      <td>NaN</td>\n      <td>NaN</td>\n      <td>NaN</td>\n      <td>NaN</td>\n      <td>NaN</td>\n      <td>NaN</td>\n    </tr>\n    <tr>\n      <td>8008</td>\n      <td>34901</td>\n      <td>B</td>\n      <td>B</td>\n      <td>NaN</td>\n      <td>New development</td>\n      <td>NaN</td>\n      <td>4GL</td>\n      <td>.Net</td>\n      <td>NESMA</td>\n      <td>5667.0</td>\n      <td>...</td>\n      <td>NaN</td>\n      <td>Yes</td>\n      <td>1.0</td>\n      <td>NaN</td>\n      <td>NaN</td>\n      <td>NaN</td>\n      <td>NaN</td>\n      <td>NaN</td>\n      <td>NaN</td>\n      <td>NaN</td>\n    </tr>\n    <tr>\n      <td>8009</td>\n      <td>34902</td>\n      <td>B</td>\n      <td>B</td>\n      <td>Business Application</td>\n      <td>Enhancement</td>\n      <td>NaN</td>\n      <td>NaN</td>\n      <td>NaN</td>\n      <td>IFPUG 4+</td>\n      <td>84.0</td>\n      <td>...</td>\n      <td>NaN</td>\n      <td>Yes</td>\n      <td>1.0</td>\n      <td>NaN</td>\n      <td>NaN</td>\n      <td>NaN</td>\n      <td>NaN</td>\n      <td>NaN</td>\n      <td>NaN</td>\n      <td>NaN</td>\n    </tr>\n    <tr>\n      <td>8010</td>\n      <td>34990</td>\n      <td>B</td>\n      <td>B</td>\n      <td>NaN</td>\n      <td>Enhancement</td>\n      <td>NaN</td>\n      <td>NaN</td>\n      <td>Cordys</td>\n      <td>IFPUG</td>\n      <td>184.0</td>\n      <td>...</td>\n      <td>NaN</td>\n      <td>Yes</td>\n      <td>1.0</td>\n      <td>NaN</td>\n      <td>NaN</td>\n      <td>NaN</td>\n      <td>NaN</td>\n      <td>NaN</td>\n      <td>NaN</td>\n      <td>NaN</td>\n    </tr>\n    <tr>\n      <td>8011</td>\n      <td>34997</td>\n      <td>B</td>\n      <td>B</td>\n      <td>NaN</td>\n      <td>New Development</td>\n      <td>NaN</td>\n      <td>3GL</td>\n      <td>Java</td>\n      <td>IFPUG</td>\n      <td>61.0</td>\n      <td>...</td>\n      <td>NaN</td>\n      <td>Yes</td>\n      <td>1.0</td>\n      <td>NaN</td>\n      <td>NaN</td>\n      <td>NaN</td>\n      <td>NaN</td>\n      <td>NaN</td>\n      <td>NaN</td>\n      <td>NaN</td>\n    </tr>\n  </tbody>\n</table>\n<p>8012 rows × 24 columns</p>\n</div>",
      "text/plain": "      ISBSG Project ID Data Quality Rating UFP rating     Application Group  \\\n0                10001                   D          A  Business Application   \n1                10003                   B          B  Business Application   \n2                10011                   B          A  Business Application   \n3                10012                   B          A  Business Application   \n4                10014                   B          A                   NaN   \n...                ...                 ...        ...                   ...   \n8007             34870                   B          B  Business Application   \n8008             34901                   B          B                   NaN   \n8009             34902                   B          B  Business Application   \n8010             34990                   B          B                   NaN   \n8011             34997                   B          B                   NaN   \n\n     Development Type Development Platform Language Type  \\\n0     New Development                   MR           4GL   \n1         Enhancement                Multi           NaN   \n2     New Development                Multi           4GL   \n3         Enhancement                  NaN           3GL   \n4         Enhancement                  NaN           NaN   \n...               ...                  ...           ...   \n8007      Enhancement                  NaN           NaN   \n8008  New development                  NaN           4GL   \n8009      Enhancement                  NaN           NaN   \n8010      Enhancement                  NaN           NaN   \n8011  New Development                  NaN           3GL   \n\n     Primary Programming Language Count Approach  Functional Size  ...  \\\n0                          Oracle          NESMA            237.0  ...   \n1                             NaN       IFPUG 4+             67.0  ...   \n2                          Access       IFPUG 4+            443.0  ...   \n3                           COBOL       IFPUG 4+             76.0  ...   \n4                             NaN       IFPUG 4+              3.0  ...   \n...                           ...            ...              ...  ...   \n8007                          NaN       IFPUG 4+            161.0  ...   \n8008                         .Net          NESMA           5667.0  ...   \n8009                          NaN       IFPUG 4+             84.0  ...   \n8010                       Cordys          IFPUG            184.0  ...   \n8011                         Java          IFPUG             61.0  ...   \n\n     Business Area Type  Used Methodology  Resource Level Max Team Size  \\\n0                Sales;                No             1.0             5   \n1                   NaN               NaN             1.0           NaN   \n2           Don't Know;        Don't Know             1.0           NaN   \n3                   NaN               Yes             1.0           NaN   \n4                   NaN               NaN             1.0           NaN   \n...                 ...               ...             ...           ...   \n8007                NaN               Yes             1.0           NaN   \n8008                NaN               Yes             1.0           NaN   \n8009                NaN               Yes             1.0           NaN   \n8010                NaN               Yes             1.0           NaN   \n8011                NaN               Yes             1.0           NaN   \n\n     Average Team Size Input count  Output count Enquiry count File count  \\\n0                    5          60           110          10.0         42   \n1                  NaN         NaN           NaN           NaN        NaN   \n2                  NaN         NaN           NaN           NaN        NaN   \n3                  NaN         NaN           NaN           NaN        NaN   \n4                  NaN         NaN           NaN           NaN        NaN   \n...                ...         ...           ...           ...        ...   \n8007               NaN         NaN           NaN           NaN        NaN   \n8008               NaN         NaN           NaN           NaN        NaN   \n8009               NaN         NaN           NaN           NaN        NaN   \n8010               NaN         NaN           NaN           NaN        NaN   \n8011               NaN         NaN           NaN           NaN        NaN   \n\n     Interface count  \n0               15.0  \n1                NaN  \n2                NaN  \n3                NaN  \n4                NaN  \n...              ...  \n8007             NaN  \n8008             NaN  \n8009             NaN  \n8010             NaN  \n8011             NaN  \n\n[8012 rows x 24 columns]"
     },
     "execution_count": 11,
     "metadata": {},
     "output_type": "execute_result"
    }
   ],
   "source": [
    "import pandas as pd\n",
    "df = pd.read_csv('ISBSG - Release May 2017 R1.csv', sep = ';')\n",
    "variables = ['ISBSG Project ID', 'Data Quality Rating', 'UFP rating', 'Application Group', 'Development Type', 'Development Platform', 'Language Type', 'Primary Programming Language', 'Count Approach', 'Functional Size', 'Adjusted Function Points', 'Normalised Work Effort Level 1', 'Summary Work Effort', 'Project Elapsed Time', 'Business Area Type', 'Used Methodology', 'Resource Level', 'Max Team Size', 'Average Team Size', 'Input count', 'Output count', 'Enquiry count', 'File count', 'Interface count']\n",
    "print(len(variables))\n",
    "df.loc[:, variables]\n"
   ]
  },
  {
   "cell_type": "code",
   "execution_count": null,
   "metadata": {},
   "outputs": [],
   "source": []
  }
 ]
}