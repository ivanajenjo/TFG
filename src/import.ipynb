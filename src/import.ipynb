{
 "nbformat": 4,
 "nbformat_minor": 2,
 "metadata": {
  "language_info": {
   "name": "python",
   "codemirror_mode": {
    "name": "ipython",
    "version": 3
   },
   "version": "3.7.4-final"
  },
  "orig_nbformat": 2,
  "file_extension": ".py",
  "mimetype": "text/x-python",
  "name": "python",
  "npconvert_exporter": "python",
  "pygments_lexer": "ipython3",
  "version": 3,
  "kernelspec": {
   "name": "python37464bitprogramdatavirtualenvee9d63b05d5c484496b6097fa197c876",
   "display_name": "Python 3.7.4 64-bit ('ProgramData': virtualenv)"
  }
 },
 "cells": [
  {
   "cell_type": "markdown",
   "execution_count": null,
   "metadata": {},
   "outputs": [],
   "source": [
    "Importamos la BD, despues de la importacion tenemos 8012 filas y 25 columnas"
   ]
  },
  {
   "cell_type": "code",
   "execution_count": 1,
   "metadata": {},
   "outputs": [
    {
     "data": {
      "text/html": "<div>\n<style scoped>\n    .dataframe tbody tr th:only-of-type {\n        vertical-align: middle;\n    }\n\n    .dataframe tbody tr th {\n        vertical-align: top;\n    }\n\n    .dataframe thead th {\n        text-align: right;\n    }\n</style>\n<table border=\"1\" class=\"dataframe\">\n  <thead>\n    <tr style=\"text-align: right;\">\n      <th></th>\n      <th>Data Quality Rating</th>\n      <th>UFP rating</th>\n      <th>Industry Sector</th>\n      <th>Application Group</th>\n      <th>Development Type</th>\n      <th>Development Platform</th>\n      <th>Language Type</th>\n      <th>Primary Programming Language</th>\n      <th>Count Approach</th>\n      <th>Functional Size</th>\n      <th>...</th>\n      <th>Used Methodology</th>\n      <th>Resource Level</th>\n      <th>Max Team Size</th>\n      <th>Average Team Size</th>\n      <th>Input count</th>\n      <th>Output count</th>\n      <th>Enquiry count</th>\n      <th>File count</th>\n      <th>Interface count</th>\n      <th>Agile Method Used</th>\n    </tr>\n  </thead>\n  <tbody>\n    <tr>\n      <td>0</td>\n      <td>D</td>\n      <td>A</td>\n      <td>Service Industry</td>\n      <td>Business Application</td>\n      <td>New Development</td>\n      <td>MR</td>\n      <td>4GL</td>\n      <td>Oracle</td>\n      <td>NESMA</td>\n      <td>237.0</td>\n      <td>...</td>\n      <td>No</td>\n      <td>1.0</td>\n      <td>5</td>\n      <td>5</td>\n      <td>60</td>\n      <td>110</td>\n      <td>10.0</td>\n      <td>42</td>\n      <td>15.0</td>\n      <td>NaN</td>\n    </tr>\n    <tr>\n      <td>1</td>\n      <td>B</td>\n      <td>B</td>\n      <td>Communication</td>\n      <td>Business Application</td>\n      <td>Enhancement</td>\n      <td>Multi</td>\n      <td>NaN</td>\n      <td>NaN</td>\n      <td>IFPUG 4+</td>\n      <td>67.0</td>\n      <td>...</td>\n      <td>NaN</td>\n      <td>1.0</td>\n      <td>NaN</td>\n      <td>NaN</td>\n      <td>NaN</td>\n      <td>NaN</td>\n      <td>NaN</td>\n      <td>NaN</td>\n      <td>NaN</td>\n      <td>NaN</td>\n    </tr>\n    <tr>\n      <td>2</td>\n      <td>B</td>\n      <td>A</td>\n      <td>Construction</td>\n      <td>Business Application</td>\n      <td>New Development</td>\n      <td>Multi</td>\n      <td>4GL</td>\n      <td>Access</td>\n      <td>IFPUG 4+</td>\n      <td>443.0</td>\n      <td>...</td>\n      <td>Don't Know</td>\n      <td>1.0</td>\n      <td>NaN</td>\n      <td>NaN</td>\n      <td>NaN</td>\n      <td>NaN</td>\n      <td>NaN</td>\n      <td>NaN</td>\n      <td>NaN</td>\n      <td>NaN</td>\n    </tr>\n    <tr>\n      <td>3</td>\n      <td>B</td>\n      <td>A</td>\n      <td>Wholesale &amp; Retail</td>\n      <td>Business Application</td>\n      <td>Enhancement</td>\n      <td>NaN</td>\n      <td>3GL</td>\n      <td>COBOL</td>\n      <td>IFPUG 4+</td>\n      <td>76.0</td>\n      <td>...</td>\n      <td>Yes</td>\n      <td>1.0</td>\n      <td>NaN</td>\n      <td>NaN</td>\n      <td>NaN</td>\n      <td>NaN</td>\n      <td>NaN</td>\n      <td>NaN</td>\n      <td>NaN</td>\n      <td>NaN</td>\n    </tr>\n    <tr>\n      <td>4</td>\n      <td>B</td>\n      <td>A</td>\n      <td>NaN</td>\n      <td>NaN</td>\n      <td>Enhancement</td>\n      <td>NaN</td>\n      <td>NaN</td>\n      <td>NaN</td>\n      <td>IFPUG 4+</td>\n      <td>3.0</td>\n      <td>...</td>\n      <td>NaN</td>\n      <td>1.0</td>\n      <td>NaN</td>\n      <td>NaN</td>\n      <td>NaN</td>\n      <td>NaN</td>\n      <td>NaN</td>\n      <td>NaN</td>\n      <td>NaN</td>\n      <td>NaN</td>\n    </tr>\n    <tr>\n      <td>...</td>\n      <td>...</td>\n      <td>...</td>\n      <td>...</td>\n      <td>...</td>\n      <td>...</td>\n      <td>...</td>\n      <td>...</td>\n      <td>...</td>\n      <td>...</td>\n      <td>...</td>\n      <td>...</td>\n      <td>...</td>\n      <td>...</td>\n      <td>...</td>\n      <td>...</td>\n      <td>...</td>\n      <td>...</td>\n      <td>...</td>\n      <td>...</td>\n      <td>...</td>\n      <td>...</td>\n    </tr>\n    <tr>\n      <td>8007</td>\n      <td>B</td>\n      <td>B</td>\n      <td>Communication</td>\n      <td>Business Application</td>\n      <td>Enhancement</td>\n      <td>NaN</td>\n      <td>NaN</td>\n      <td>NaN</td>\n      <td>IFPUG 4+</td>\n      <td>161.0</td>\n      <td>...</td>\n      <td>Yes</td>\n      <td>1.0</td>\n      <td>NaN</td>\n      <td>NaN</td>\n      <td>NaN</td>\n      <td>NaN</td>\n      <td>NaN</td>\n      <td>NaN</td>\n      <td>NaN</td>\n      <td>NaN</td>\n    </tr>\n    <tr>\n      <td>8008</td>\n      <td>B</td>\n      <td>B</td>\n      <td>Banking</td>\n      <td>NaN</td>\n      <td>New development</td>\n      <td>NaN</td>\n      <td>4GL</td>\n      <td>.Net</td>\n      <td>NESMA</td>\n      <td>5667.0</td>\n      <td>...</td>\n      <td>Yes</td>\n      <td>1.0</td>\n      <td>NaN</td>\n      <td>NaN</td>\n      <td>NaN</td>\n      <td>NaN</td>\n      <td>NaN</td>\n      <td>NaN</td>\n      <td>NaN</td>\n      <td>NaN</td>\n    </tr>\n    <tr>\n      <td>8009</td>\n      <td>B</td>\n      <td>B</td>\n      <td>Communication</td>\n      <td>Business Application</td>\n      <td>Enhancement</td>\n      <td>NaN</td>\n      <td>NaN</td>\n      <td>NaN</td>\n      <td>IFPUG 4+</td>\n      <td>84.0</td>\n      <td>...</td>\n      <td>Yes</td>\n      <td>1.0</td>\n      <td>NaN</td>\n      <td>NaN</td>\n      <td>NaN</td>\n      <td>NaN</td>\n      <td>NaN</td>\n      <td>NaN</td>\n      <td>NaN</td>\n      <td>NaN</td>\n    </tr>\n    <tr>\n      <td>8010</td>\n      <td>B</td>\n      <td>B</td>\n      <td>NaN</td>\n      <td>NaN</td>\n      <td>Enhancement</td>\n      <td>NaN</td>\n      <td>NaN</td>\n      <td>Cordys</td>\n      <td>IFPUG</td>\n      <td>184.0</td>\n      <td>...</td>\n      <td>Yes</td>\n      <td>1.0</td>\n      <td>NaN</td>\n      <td>NaN</td>\n      <td>NaN</td>\n      <td>NaN</td>\n      <td>NaN</td>\n      <td>NaN</td>\n      <td>NaN</td>\n      <td>NaN</td>\n    </tr>\n    <tr>\n      <td>8011</td>\n      <td>B</td>\n      <td>B</td>\n      <td>Manufacturing</td>\n      <td>NaN</td>\n      <td>New Development</td>\n      <td>NaN</td>\n      <td>3GL</td>\n      <td>Java</td>\n      <td>IFPUG</td>\n      <td>61.0</td>\n      <td>...</td>\n      <td>Yes</td>\n      <td>1.0</td>\n      <td>NaN</td>\n      <td>NaN</td>\n      <td>NaN</td>\n      <td>NaN</td>\n      <td>NaN</td>\n      <td>NaN</td>\n      <td>NaN</td>\n      <td>NaN</td>\n    </tr>\n  </tbody>\n</table>\n<p>8012 rows × 26 columns</p>\n</div>",
      "text/plain": "     Data Quality Rating UFP rating     Industry Sector     Application Group  \\\n0                      D          A    Service Industry  Business Application   \n1                      B          B       Communication  Business Application   \n2                      B          A        Construction  Business Application   \n3                      B          A  Wholesale & Retail  Business Application   \n4                      B          A                 NaN                   NaN   \n...                  ...        ...                 ...                   ...   \n8007                   B          B       Communication  Business Application   \n8008                   B          B             Banking                   NaN   \n8009                   B          B       Communication  Business Application   \n8010                   B          B                 NaN                   NaN   \n8011                   B          B       Manufacturing                   NaN   \n\n     Development Type Development Platform Language Type  \\\n0     New Development                   MR           4GL   \n1         Enhancement                Multi           NaN   \n2     New Development                Multi           4GL   \n3         Enhancement                  NaN           3GL   \n4         Enhancement                  NaN           NaN   \n...               ...                  ...           ...   \n8007      Enhancement                  NaN           NaN   \n8008  New development                  NaN           4GL   \n8009      Enhancement                  NaN           NaN   \n8010      Enhancement                  NaN           NaN   \n8011  New Development                  NaN           3GL   \n\n     Primary Programming Language Count Approach  Functional Size  ...  \\\n0                          Oracle          NESMA            237.0  ...   \n1                             NaN       IFPUG 4+             67.0  ...   \n2                          Access       IFPUG 4+            443.0  ...   \n3                           COBOL       IFPUG 4+             76.0  ...   \n4                             NaN       IFPUG 4+              3.0  ...   \n...                           ...            ...              ...  ...   \n8007                          NaN       IFPUG 4+            161.0  ...   \n8008                         .Net          NESMA           5667.0  ...   \n8009                          NaN       IFPUG 4+             84.0  ...   \n8010                       Cordys          IFPUG            184.0  ...   \n8011                         Java          IFPUG             61.0  ...   \n\n     Used Methodology  Resource Level  Max Team Size Average Team Size  \\\n0                  No             1.0              5                 5   \n1                 NaN             1.0            NaN               NaN   \n2          Don't Know             1.0            NaN               NaN   \n3                 Yes             1.0            NaN               NaN   \n4                 NaN             1.0            NaN               NaN   \n...               ...             ...            ...               ...   \n8007              Yes             1.0            NaN               NaN   \n8008              Yes             1.0            NaN               NaN   \n8009              Yes             1.0            NaN               NaN   \n8010              Yes             1.0            NaN               NaN   \n8011              Yes             1.0            NaN               NaN   \n\n     Input count Output count Enquiry count  File count Interface count  \\\n0             60          110          10.0          42            15.0   \n1            NaN          NaN           NaN         NaN             NaN   \n2            NaN          NaN           NaN         NaN             NaN   \n3            NaN          NaN           NaN         NaN             NaN   \n4            NaN          NaN           NaN         NaN             NaN   \n...          ...          ...           ...         ...             ...   \n8007         NaN          NaN           NaN         NaN             NaN   \n8008         NaN          NaN           NaN         NaN             NaN   \n8009         NaN          NaN           NaN         NaN             NaN   \n8010         NaN          NaN           NaN         NaN             NaN   \n8011         NaN          NaN           NaN         NaN             NaN   \n\n     Agile Method Used  \n0                  NaN  \n1                  NaN  \n2                  NaN  \n3                  NaN  \n4                  NaN  \n...                ...  \n8007               NaN  \n8008               NaN  \n8009               NaN  \n8010               NaN  \n8011               NaN  \n\n[8012 rows x 26 columns]"
     },
     "execution_count": 1,
     "metadata": {},
     "output_type": "execute_result"
    }
   ],
   "source": [
    "import pandas as pd\n",
    "archivo = '..\\data\\ISBSG - Release May 2017 R1.csv'\n",
    "#archivo = '..\\data\\ISBSG DATA Release 12.csv'\n",
    "df = pd.read_csv(archivo, sep = ';', low_memory = False)\n",
    "variables = ['Data Quality Rating', 'UFP rating', 'Industry Sector','Application Group', 'Development Type', 'Development Platform', 'Language Type', 'Primary Programming Language', 'Count Approach', 'Functional Size', 'Adjusted Function Points', 'Normalised Work Effort Level 1', 'Summary Work Effort', 'Project Elapsed Time', 'Business Area Type', '1st Data Base System', 'Used Methodology', 'Resource Level', 'Max Team Size', 'Average Team Size', 'Input count', 'Output count', 'Enquiry count', 'File count', 'Interface count', 'Agile Method Used']\n",
    "df = df.loc[:, variables]\n",
    "df"
   ]
  },
  {
   "cell_type": "code",
   "execution_count": 2,
   "metadata": {},
   "outputs": [
    {
     "name": "stdout",
     "output_type": "stream",
     "text": "2183\n"
    },
    {
     "data": {
      "text/html": "<div>\n<style scoped>\n    .dataframe tbody tr th:only-of-type {\n        vertical-align: middle;\n    }\n\n    .dataframe tbody tr th {\n        vertical-align: top;\n    }\n\n    .dataframe thead th {\n        text-align: right;\n    }\n</style>\n<table border=\"1\" class=\"dataframe\">\n  <thead>\n    <tr style=\"text-align: right;\">\n      <th></th>\n      <th>Industry Sector</th>\n      <th>Application Group</th>\n      <th>Development Type</th>\n      <th>Development Platform</th>\n      <th>Language Type</th>\n      <th>Primary Programming Language</th>\n      <th>Functional Size</th>\n      <th>Adjusted Function Points</th>\n      <th>Normalised Work Effort Level 1</th>\n      <th>Project Elapsed Time</th>\n      <th>1st Data Base System</th>\n      <th>Used Methodology</th>\n      <th>Max Team Size</th>\n    </tr>\n  </thead>\n  <tbody>\n    <tr>\n      <td>43</td>\n      <td>Government</td>\n      <td>Business Application</td>\n      <td>New Development</td>\n      <td>MF</td>\n      <td>3GL</td>\n      <td>COBOL</td>\n      <td>243.0</td>\n      <td>250</td>\n      <td>2924.0</td>\n      <td>8,0</td>\n      <td>DB2;</td>\n      <td>Yes</td>\n      <td>8</td>\n    </tr>\n    <tr>\n      <td>68</td>\n      <td>Utilities</td>\n      <td>Business Application</td>\n      <td>New Development</td>\n      <td>MF</td>\n      <td>3GL</td>\n      <td>PL/I</td>\n      <td>163.0</td>\n      <td>152</td>\n      <td>668.0</td>\n      <td>9,0</td>\n      <td>DB2;</td>\n      <td>Yes</td>\n      <td>3</td>\n    </tr>\n    <tr>\n      <td>140</td>\n      <td>Service Industry</td>\n      <td>Business Application</td>\n      <td>New Development</td>\n      <td>PC</td>\n      <td>3GL</td>\n      <td>C#</td>\n      <td>90.0</td>\n      <td>101</td>\n      <td>2006.0</td>\n      <td>5,0</td>\n      <td>MS SQL Server 2005;</td>\n      <td>Yes</td>\n      <td>8</td>\n    </tr>\n    <tr>\n      <td>159</td>\n      <td>Service Industry</td>\n      <td>Business Application</td>\n      <td>Enhancement</td>\n      <td>MF</td>\n      <td>3GL</td>\n      <td>PL/I</td>\n      <td>304.0</td>\n      <td>304</td>\n      <td>5377.0</td>\n      <td>10,0</td>\n      <td>DB2;</td>\n      <td>Yes</td>\n      <td>8</td>\n    </tr>\n    <tr>\n      <td>161</td>\n      <td>Government</td>\n      <td>Business Application</td>\n      <td>Enhancement</td>\n      <td>Multi</td>\n      <td>3GL</td>\n      <td>JavaScript</td>\n      <td>132.0</td>\n      <td>132</td>\n      <td>1485.0</td>\n      <td>12,0</td>\n      <td>MS SQL;</td>\n      <td>Yes</td>\n      <td>3</td>\n    </tr>\n    <tr>\n      <td>...</td>\n      <td>...</td>\n      <td>...</td>\n      <td>...</td>\n      <td>...</td>\n      <td>...</td>\n      <td>...</td>\n      <td>...</td>\n      <td>...</td>\n      <td>...</td>\n      <td>...</td>\n      <td>...</td>\n      <td>...</td>\n      <td>...</td>\n    </tr>\n    <tr>\n      <td>7850</td>\n      <td>Banking</td>\n      <td>Business Application</td>\n      <td>New Development</td>\n      <td>MF</td>\n      <td>4GL</td>\n      <td>EASYTRIEVE</td>\n      <td>436.0</td>\n      <td>436</td>\n      <td>1989.0</td>\n      <td>12,0</td>\n      <td>IMS;ACCESS;</td>\n      <td>Yes</td>\n      <td>4</td>\n    </tr>\n    <tr>\n      <td>7857</td>\n      <td>Government</td>\n      <td>Business Application</td>\n      <td>Enhancement</td>\n      <td>Multi</td>\n      <td>4GL</td>\n      <td>ABAP</td>\n      <td>708.0</td>\n      <td>708</td>\n      <td>2946.0</td>\n      <td>9,0</td>\n      <td>DB2;</td>\n      <td>Yes</td>\n      <td>7</td>\n    </tr>\n    <tr>\n      <td>7876</td>\n      <td>Government</td>\n      <td>Business Application</td>\n      <td>Enhancement</td>\n      <td>MF</td>\n      <td>3GL</td>\n      <td>COBOL</td>\n      <td>12.0</td>\n      <td>12</td>\n      <td>129.0</td>\n      <td>3,0</td>\n      <td>VSAM;</td>\n      <td>Yes</td>\n      <td>2</td>\n    </tr>\n    <tr>\n      <td>7928</td>\n      <td>Government</td>\n      <td>Business Application</td>\n      <td>Enhancement</td>\n      <td>MF</td>\n      <td>3GL</td>\n      <td>PL/I</td>\n      <td>96.0</td>\n      <td>96</td>\n      <td>1011.0</td>\n      <td>6,0</td>\n      <td>DB2;</td>\n      <td>Yes</td>\n      <td>6</td>\n    </tr>\n    <tr>\n      <td>7934</td>\n      <td>Government</td>\n      <td>Business Application</td>\n      <td>New Development</td>\n      <td>Multi</td>\n      <td>4GL</td>\n      <td>Datastage</td>\n      <td>1048.0</td>\n      <td>1048</td>\n      <td>7722.0</td>\n      <td>16,0</td>\n      <td>DB2;</td>\n      <td>Yes</td>\n      <td>7</td>\n    </tr>\n  </tbody>\n</table>\n<p>323 rows × 13 columns</p>\n</div>",
      "text/plain": "       Industry Sector     Application Group Development Type  \\\n43          Government  Business Application  New Development   \n68           Utilities  Business Application  New Development   \n140   Service Industry  Business Application  New Development   \n159   Service Industry  Business Application      Enhancement   \n161         Government  Business Application      Enhancement   \n...                ...                   ...              ...   \n7850           Banking  Business Application  New Development   \n7857        Government  Business Application      Enhancement   \n7876        Government  Business Application      Enhancement   \n7928        Government  Business Application      Enhancement   \n7934        Government  Business Application  New Development   \n\n     Development Platform Language Type Primary Programming Language  \\\n43                     MF           3GL                        COBOL   \n68                     MF           3GL                         PL/I   \n140                    PC           3GL                           C#   \n159                    MF           3GL                         PL/I   \n161                 Multi           3GL                   JavaScript   \n...                   ...           ...                          ...   \n7850                   MF           4GL                   EASYTRIEVE   \n7857                Multi           4GL                         ABAP   \n7876                   MF           3GL                        COBOL   \n7928                   MF           3GL                         PL/I   \n7934                Multi           4GL                    Datastage   \n\n      Functional Size Adjusted Function Points  \\\n43              243.0                      250   \n68              163.0                      152   \n140              90.0                      101   \n159             304.0                      304   \n161             132.0                      132   \n...               ...                      ...   \n7850            436.0                      436   \n7857            708.0                      708   \n7876             12.0                       12   \n7928             96.0                       96   \n7934           1048.0                     1048   \n\n      Normalised Work Effort Level 1 Project Elapsed Time  \\\n43                            2924.0                  8,0   \n68                             668.0                  9,0   \n140                           2006.0                  5,0   \n159                           5377.0                 10,0   \n161                           1485.0                 12,0   \n...                              ...                  ...   \n7850                          1989.0                 12,0   \n7857                          2946.0                  9,0   \n7876                           129.0                  3,0   \n7928                          1011.0                  6,0   \n7934                          7722.0                 16,0   \n\n     1st Data Base System Used Methodology Max Team Size  \n43                   DB2;              Yes             8  \n68                   DB2;              Yes             3  \n140   MS SQL Server 2005;              Yes             8  \n159                  DB2;              Yes             8  \n161               MS SQL;              Yes             3  \n...                   ...              ...           ...  \n7850          IMS;ACCESS;              Yes             4  \n7857                 DB2;              Yes             7  \n7876                VSAM;              Yes             2  \n7928                 DB2;              Yes             6  \n7934                 DB2;              Yes             7  \n\n[323 rows x 13 columns]"
     },
     "execution_count": 2,
     "metadata": {},
     "output_type": "execute_result"
    }
   ],
   "source": [
    "filtro = ((df['Data Quality Rating'] == 'A') | (df['Data Quality Rating'] == 'B')) & ((df['UFP rating'] == 'A') | (df['UFP rating'] == 'B')) \n",
    "df = df.loc[filtro, :]\n",
    "filtro = (df['Normalised Work Effort Level 1'].notnull()) & (df['Normalised Work Effort Level 1'] == df['Summary Work Effort'])\n",
    "df = df.loc[filtro, :]\n",
    "filtro = df['Count Approach'] == 'IFPUG 4+'\n",
    "df = df.loc[filtro, :]\n",
    "variables = ['Industry Sector','Application Group', 'Development Type', 'Development Platform', 'Language Type', 'Primary Programming Language', 'Functional Size', 'Adjusted Function Points', 'Normalised Work Effort Level 1', 'Project Elapsed Time', 'Business Area Type', '1st Data Base System', 'Used Methodology', 'Max Team Size', 'Average Team Size', 'Input count', 'Output count', 'Enquiry count', 'File count', 'Interface count', 'Agile Method Used']\n",
    "df = df.loc[:, variables]\n",
    "df = df.dropna(axis=1, thresh=int(0.4*len(df)))\n",
    "print(len(df))\n",
    "df = df.dropna()\n",
    "df"
   ]
  },
  {
   "cell_type": "markdown",
   "execution_count": null,
   "metadata": {},
   "outputs": [],
   "source": [
    "Tras hacer el filtrado de las variables que nos interesa nos quedan 860 proyectos válidos."
   ]
  },
  {
   "cell_type": "markdown",
   "execution_count": null,
   "metadata": {},
   "outputs": [],
   "source": [
    "Si aplicamos los filtros anteriores, sin desechar variables, y además seleccionamos aquellos que han utilizado metodología agil nos quedan solamente 21 proyectos."
   ]
  },
  {
   "cell_type": "code",
   "execution_count": null,
   "metadata": {},
   "outputs": [],
   "source": [
    "filtro = ((df['Data Quality Rating'] == 'A') | (df['Data Quality Rating'] == 'B')) & ((df['UFP rating'] == 'A') | (df['UFP rating'] == 'B')) \n",
    "df = df.loc[filtro, :]\n",
    "filtro = (df['Normalised Work Effort Level 1'].notnull()) & (df['Normalised Work Effort Level 1'] == df['Summary Work Effort'])\n",
    "df = df.loc[filtro, :]\n",
    "filtro = df['Count Approach'] == 'IFPUG 4+'\n",
    "df = df.loc[filtro, :]\n",
    "variables = ['Industry Sector','Application Group', 'Development Type', 'Development Platform', 'Language Type', 'Primary Programming Language', 'Functional Size', 'Adjusted Function Points', 'Normalised Work Effort Level 1', 'Project Elapsed Time', 'Business Area Type', '1st Data Base System', 'Used Methodology', 'Max Team Size', 'Average Team Size', 'Input count', 'Output count', 'Enquiry count', 'File count', 'Interface count', 'Agile Method Used']\n",
    "df = df.loc[:, variables]\n",
    "filtro = df['Agile Method Used'] == 'Yes'\n",
    "df = df.loc[filtro, :]\n",
    "df"
   ]
  }
 ]
}